{
 "cells": [
  {
   "cell_type": "markdown",
   "id": "apparent-cookbook",
   "metadata": {},
   "source": [
    "# Homework Assignment 6: Model Evaluation 2\n",
    "As in the previous assignments, in this homework assignment you will continue your exploration of the [SWAN-SF Dataset](https://doi.org/10.7910/DVN/EBCFKM), described in the paper found [here](https://doi.org/10.1038/s41597-020-0548-x).\n",
    "\n",
    "This assignment will continue to utilize a copy of the extracted feature dataset we used in Homework 5. Recall that the dataset has been processed by performing log, z-score and range scaling. We continuing to use more than one partition worth of data, so for the scaling, the mean, standard deviation, minimum, and maximum were calculated using data from both partitions so that a global scaling can be performed on each partition. \n",
    "\n",
    "\n",
    "---"
   ]
  },
  {
   "cell_type": "markdown",
   "id": "animal-portugal",
   "metadata": {},
   "source": [
    "## Step 1: Downloading the Data\n",
    "\n",
    "This assignment will continue to use [Partition 1](https://dataverse.harvard.edu/api/access/datafile/:persistentId?persistentId=doi:10.7910/DVN/EBCFKM/BMXYCB) for a training set and [Partition 2](https://dataverse.harvard.edu/api/access/datafile/:persistentId?persistentId=doi:10.7910/DVN/EBCFKM/TCRPUD) as a testing set. \n",
    "\n",
    "---\n",
    "\n",
    "For this assignment, cleaning, transforming, and normalization of the data has been completed using both partitions to find the various minimum, maximum, standard deviation, and mean values needed to perform these operations. Recall from lecture that we should not perform these operations on each partition individually, but as a whole as there may(will) be different values for these in different partitions. \n",
    "\n",
    "For example, if we perform simple range scaling on each partition individually and we see a range of 0 to 100 in one partition and 0 to 10 in another. After individual scaling the values with 100 in the first would be mapped to 1 just like the values that had 10 in the second. This can cause serious performance problems in your model, so I have made sure that the normalization was treated properly for you. \n",
    "\n",
    "Below you will find the full partitions and `toy` sampled data from each partition, where only 20 samples from each of our 5 classes have been included in the data.  \n",
    "\n",
    "#### Full\n",
    "- [Full Normalized Partition 1 feature dataset](http://dmlab.cs.gsu.edu/solar/data/normalized_partition1ExtractedFeatures.csv)\n",
    "- [Full Normalized Partition 2 feature dataset](http://dmlab.cs.gsu.edu/solar/data/normalized_partition2ExtractedFeatures.csv)\n",
    "\n",
    "#### Toy\n",
    "- [Toy Normalized Partition 1 feature dataset](http://dmlab.cs.gsu.edu/solar/data/toy_normalized_partition1ExtractedFeatures.csv)\n",
    "- [Toy Normalized Partition 2 feature dataset](http://dmlab.cs.gsu.edu/solar/data/toy_normalized_partition2ExtractedFeatures.csv)\n",
    "\n",
    "Now that you have the two files, you should load each into a Pandas DataFrame using the [pandas.read_csv](https://pandas.pydata.org/pandas-docs/stable/reference/api/pandas.read_csv.html) method. \n",
    "\n",
    "---"
   ]
  },
  {
   "cell_type": "markdown",
   "id": "packed-spare",
   "metadata": {},
   "source": [
    "### Evaluation Metric\n",
    "\n",
    "As was done in Homework 5, for each of the models we evaluate in this assignmnet, you will calculate the True Skill Statistic score using the test data from Partition 2 to determine which model performs the best for classifying the positive flaring class.\n",
    "\n",
    "    True skill statistic (TSS) = TPR + TNR - 1 = TPR - (1-TNR) = TPR - FPR\n",
    "\n",
    "Where:\n",
    "\n",
    "    True positive rate (TPR) = TP/(TP+FN) Also known as recall or sensitivity\n",
    "    True negative rate (TNR) = TN/(TN+FP) Also known as specificity or selectivity\n",
    "    False positive rate (FPR) = FP/(FP+TN) = (1-TNR) Also known as fall-out or false alarm ratio\n",
    "\n",
    "\n",
    "**Recall**\n",
    "\n",
    "    True positive (TP)\n",
    "    True negative (TN)\n",
    "    False positive (FP)\n",
    "    False negative (FN)\n",
    "    \n",
    "See [confusion matrix](https://en.wikipedia.org/wiki/Confusion_matrix) for more information.\n",
    "\n",
    "Below is a function implemented to provide your score for each model.\n",
    "\n",
    "---"
   ]
  },
  {
   "cell_type": "code",
   "execution_count": 1,
   "id": "individual-production",
   "metadata": {},
   "outputs": [],
   "source": [
    "%matplotlib inline\n",
    "import os\n",
    "import itertools\n",
    "import pandas as pd\n",
    "from pandas import DataFrame \n",
    "import numpy as np\n",
    "from sklearn.metrics import confusion_matrix\n",
    "from sklearn.feature_selection import SelectKBest\n",
    "from sklearn.feature_selection import f_classif\n",
    "from sklearn.feature_selection import mutual_info_classif\n",
    "from sklearn.feature_selection import chi2\n",
    "from sklearn.feature_selection import SequentialFeatureSelector\n",
    "from sklearn.feature_selection import SelectFromModel\n",
    "from sklearn.linear_model import LassoLars\n",
    "from sklearn.ensemble import ExtraTreesClassifier\n",
    "from sklearn.cluster import KMeans\n",
    "\n",
    "from sklearn.svm import SVC\n",
    "import seaborn as sns\n",
    "import matplotlib.pyplot as plt"
   ]
  },
  {
   "cell_type": "code",
   "execution_count": 2,
   "id": "facial-sleep",
   "metadata": {},
   "outputs": [],
   "source": [
    "def calc_tss(y_true, y_predict):\n",
    "    '''\n",
    "    Calculates the true skill score for binary classification based on the output of the confusion\n",
    "    table function\n",
    "    \n",
    "        Parameters:\n",
    "            y_true   : A vector/list of values that represent the true class label of the data being evaluated.\n",
    "            y_predict: A vector/list of values that represent the predicted class label for the data being evaluated.\n",
    "    \n",
    "        Returns:\n",
    "            tss_value (float): A floating point value (-1.0,1.0) indicating the TSS of the input data\n",
    "    '''\n",
    "    scores = confusion_matrix(y_true, y_predict).ravel()\n",
    "    TN, FP, FN, TP = scores\n",
    "    print('TN={0}\\tFP={1}\\tFN={2}\\tTP={3}'.format(TN, FP, FN, TP))\n",
    "    tp_rate = TP / float(TP + FN) if TP > 0 else 0  \n",
    "    fp_rate = FP / float(FP + TN) if FP > 0 else 0\n",
    "    \n",
    "    return tp_rate - fp_rate"
   ]
  },
  {
   "cell_type": "markdown",
   "id": "5b04d14e",
   "metadata": {},
   "source": [
    "---\n",
    "\n",
    "In addition to the TSS, you will be asked to also calculate the Heidke Skill Score (HSS) to see how much better your model performs than a random forecast.  \n",
    "\n",
    "Below is a function implemented to provide your score fore each model.\n",
    "\n",
    "---"
   ]
  },
  {
   "cell_type": "code",
   "execution_count": 3,
   "id": "1ab05f6a",
   "metadata": {},
   "outputs": [],
   "source": [
    "def calc_hss(y_true, y_predict):\n",
    "    '''\n",
    "    Calculates the Heidke Skill Score for binary classification based on the output of the confusion\n",
    "    table function.\n",
    "    \n",
    "    The HSS measures the fractional improvement of the forecast over the standard forecast.\n",
    "    The \"standard forecast\" is usually the number correct by chance or the proportion \n",
    "    correct by chance.\n",
    "    \n",
    "        Parameters:\n",
    "            y_true   : A vector/list of values that represent the true class label of the data being evaluated.\n",
    "            y_predict: A vector/list of values that represent the predicted class label for the data being evaluated.\n",
    "    \n",
    "        Returns:\n",
    "            hss_value (float): A floating point value (-inf,1.0) indicating the HSS of the input data. \n",
    "                Negative values indicate that the chance forecast is better, 0 means no skill, and a perfect forecast obtains a HSS of 1.\n",
    "    '''\n",
    "    scores = confusion_matrix(y_true, y_predict).ravel()\n",
    "    TN, FP, FN, TP = scores\n",
    "    #print('TN={0}\\tFP={1}\\tFN={2}\\tTP={3}'.format(TN, FP, FN, TP))\n",
    "    P = float(TP + FN)\n",
    "    N = float(FP + TN)\n",
    "    numerator = 2*((TP * TN) - (FN * FP))\n",
    "    denominator = P*(FN + TN) + N*(TP + FP)\n",
    "    \n",
    "    return numerator/denominator"
   ]
  },
  {
   "cell_type": "markdown",
   "id": "secure-alfred",
   "metadata": {},
   "source": [
    "---\n",
    "\n",
    "As in the previous assignment, we will be utilizing a binary classification of our 5 class dataset. So, below is the helper function to change our class labels from the 5 class target feature to the binary target feature. The function is implemented to take a dataframe (e.g. our `abt`) and prepares it for a binary classification by merging the `X`- and `M`-class samples into one group, and the rest (`NF`, `B`, and `C`) into another group, labeled with `1`s and `0`s, respectively.\n",
    "\n",
    "---"
   ]
  },
  {
   "cell_type": "code",
   "execution_count": 4,
   "id": "handled-motor",
   "metadata": {},
   "outputs": [],
   "source": [
    "def dichotomize_X_y(data: pd.DataFrame):\n",
    "    \"\"\"\n",
    "    dichotomizes the dataset and split it into the features (X) and the labels (y).\n",
    "    \n",
    "    :return: two np.ndarray objects X and y.\n",
    "    \"\"\"\n",
    "    data_dich = data.copy()\n",
    "    data_dich['lab'] = data_dich['lab'].map({'NF': 0, 'B': 0, 'C': 0, 'M': 1, 'X': 1})\n",
    "    y = data_dich['lab']\n",
    "    X = data_dich.drop(['lab'], axis=1)\n",
    "    return X.values, y.values"
   ]
  },
  {
   "cell_type": "markdown",
   "id": "approximate-manufacturer",
   "metadata": {},
   "source": [
    "---\n",
    "\n",
    "### Reading the partitions"
   ]
  },
  {
   "cell_type": "code",
   "execution_count": 5,
   "id": "viral-productivity",
   "metadata": {},
   "outputs": [],
   "source": [
    "data_dir = 'C:/Users/Hyunki/anaconda3/envs/csc4780/HW6/'\n",
    "data_file = \"normalized_partition1ExtractedFeatures.csv\"\n",
    "data_file2 = \"normalized_partition2ExtractedFeatures.csv\""
   ]
  },
  {
   "cell_type": "code",
   "execution_count": 6,
   "id": "infectious-segment",
   "metadata": {},
   "outputs": [],
   "source": [
    "abt = pd.read_csv(os.path.join(data_dir, data_file))\n",
    "abt2 = pd.read_csv(os.path.join(data_dir, data_file2))"
   ]
  },
  {
   "cell_type": "markdown",
   "id": "f78989fe",
   "metadata": {},
   "source": [
    "---\n",
    "\n",
    "### Run Feature Selection\n",
    "\n",
    "Below you have code to perform feature selction using [SelectKBest](https://scikit-learn.org/stable/modules/generated/sklearn.feature_selection.SelectKBest.html#sklearn.feature_selection.SelectKBest) class from [scikit-learn Univariate Feature Selection](https://scikit-learn.org/stable/modules/feature_selection.html#univariate-feature-selection). The scoring function being used is [scikit-learn f_classif](https://scikit-learn.org/stable/modules/generated/sklearn.feature_selection.f_classif.html#sklearn.feature_selection.f_classif).\n",
    "\n",
    "Once feature selection is done with this one method, a set of training and testing dataframes are constructed by doing the following:\n",
    "\n",
    "* Utilizing the `get_support` function of the feature selection object we get a mask of the features we will select from our original analytics base table DataFrame.  \n",
    "\n",
    "* The mask of selected features is then paired with the `loc` function on our datframe containing only the descriptive features to get our selected featrues on all rows in our feature dataframe.\n",
    "\n",
    "* The set of selected features are concatenated with our labels to construct a training dataset.\n",
    "\n",
    "* This process was then repeated to construct the testing set.\n",
    "\n",
    "---"
   ]
  },
  {
   "cell_type": "code",
   "execution_count": 7,
   "id": "818faa7c",
   "metadata": {},
   "outputs": [],
   "source": [
    "numFeat = 20\n",
    "\n",
    "# Split the target and descriptive features for Partition 1 into two \n",
    "# different DataFrame objects\n",
    "df_labels = abt['lab'].copy()\n",
    "df_feats = abt.copy().drop(['lab'], axis=1)\n",
    "\n",
    "# Split the target and descriptive features for Partition 2 inot two\n",
    "# different DataFrame Objects\n",
    "df_test_labels = abt2['lab'].copy()\n",
    "df_test_feats = abt2.copy().drop(['lab'], axis=1)\n",
    "\n",
    "# Do feature selection\n",
    "feats1 = SelectKBest(f_classif, k=numFeat).fit(df_feats, df_labels)"
   ]
  },
  {
   "cell_type": "code",
   "execution_count": 8,
   "id": "041022de",
   "metadata": {},
   "outputs": [],
   "source": [
    "# Construct a training dataset from Partition 1 with only the selected descriptive \n",
    "# features and the target feature\n",
    "df_selected_feats1 = df_feats.loc[:, feats1.get_support()]\n",
    "df_train_set1 = pd.concat([df_labels, df_selected_feats1], axis=1)\n",
    "\n",
    "# Construct a testing dataset from Partition 2 with only the selected descriptive\n",
    "# features and the target feature\n",
    "df_test_selected_feats1 = df_test_feats.loc[:, feats1.get_support()]\n",
    "df_test_set1 = pd.concat([df_test_labels, df_test_selected_feats1], axis=1)"
   ]
  },
  {
   "cell_type": "markdown",
   "id": "28981223",
   "metadata": {},
   "source": [
    "---\n",
    "### Q1 (5 points)\n",
    "\n",
    "Using the feature selection task above as a template, you will now perform feature selection again to produce a second set of training and testing data. This time you will use the [SelectFromModel](https://scikit-learn.org/stable/modules/generated/sklearn.feature_selection.SelectFromModel.html#sklearn.feature_selection.SelectFromModel) class from [scikit-learn Univariate Feature Selection](https://scikit-learn.org/stable/modules/feature_selection.html#univariate-feature-selection). \n",
    "\n",
    "Instead of using the [LinearSVC](https://scikit-learn.org/stable/modules/generated/sklearn.svm.LinearSVC.html#sklearn.svm.LinearSVC) that is shown in the example documentation linked above, you will be utilizing the [LassoLars](https://scikit-learn.org/stable/modules/generated/sklearn.linear_model.LassoLars.html#sklearn.linear_model.LassoLars) as your `estimator`.  You should also set the `max_features` to the number of features we are going to select (20 features). \n",
    "\n",
    "**Note:** The LassoLars class is a regression model and will not work on our string class lables. So, you need to map the `NF`, `B`, `C`, `M`, `X` labels to a range between `-1` and `1` before you attempt to fit the feature selection model to them. You can try evenly spacing them, or forcing the classes that will be used as the negative class into a tight range and those that will be used as the postive class into another tight range.  Maybe this another location for you to do hyperparameter tuning?"
   ]
  },
  {
   "cell_type": "code",
   "execution_count": 9,
   "id": "a0638036",
   "metadata": {},
   "outputs": [],
   "source": [
    "numFeat = 20"
   ]
  },
  {
   "cell_type": "code",
   "execution_count": 10,
   "id": "dbe2d3f4",
   "metadata": {},
   "outputs": [
    {
     "name": "stderr",
     "output_type": "stream",
     "text": [
      "C:\\Users\\Hyunki\\anaconda3\\lib\\site-packages\\sklearn\\linear_model\\_least_angle.py:651: ConvergenceWarning: Regressors in active set degenerate. Dropping a regressor, after 452 iterations, i.e. alpha=6.101e-07, with an active set of 308 regressors, and the smallest cholesky pivot element being 1.490e-08. Reduce max_iter or increase eps parameters.\n",
      "  warnings.warn(\n"
     ]
    }
   ],
   "source": [
    "#----------------------------------------------\n",
    "# TODO: Complete here.\n",
    "#----------------------------------------------\n",
    "train_x, train_y = dichotomize_X_y(abt)\n",
    "selector = SelectFromModel(estimator=LassoLars(normalize=True, alpha=1e-07), max_features=numFeat).fit(train_x, train_y)\n",
    "df_selected_feats2 = df_feats.loc[:, selector.get_support()]\n",
    "df_train_set2 = pd.concat([df_labels, df_selected_feats2], axis=1)\n",
    "\n",
    "# Construct a testing dataset from Partition 2 with only the selected descriptive\n",
    "# features and the target feature\n",
    "df_test_selected_feats2 = df_test_feats.loc[:, selector.get_support()]\n",
    "df_test_set2 = pd.concat([df_test_labels, df_test_selected_feats2], axis=1)"
   ]
  },
  {
   "cell_type": "markdown",
   "id": "88a34b6f",
   "metadata": {},
   "source": [
    "---\n",
    "### Q2 (5 points)\n",
    "\n",
    "In this question, you will again perform the feature selection task [SelectFromModel](https://scikit-learn.org/stable/modules/generated/sklearn.feature_selection.SelectFromModel.html#sklearn.feature_selection.SelectFromModel) class from [scikit-learn Univariate Feature Selection](https://scikit-learn.org/stable/modules/feature_selection.html#univariate-feature-selection). However, this time, you will be utililizing a random forest model called [ExtraTressClssifier](https://scikit-learn.org/stable/modules/generated/sklearn.ensemble.ExtraTreesClassifier.html#sklearn.ensemble.ExtraTreesClassifier) as the `estimator`. \n",
    "\n",
    "You need set the `max_features` of the SelectFromModel object to the number of features we are going to select (20 features). \n",
    "\n",
    "You also need to set the `n_estimators` of the random forest algorithm to `75` when you construct it.\n",
    "\n",
    "**Note:** This method allows you to utilize our string class labels, so you don't need to map the lables to any other values. You can use the labels that were used in the original example above."
   ]
  },
  {
   "cell_type": "code",
   "execution_count": 11,
   "id": "4deb923e",
   "metadata": {},
   "outputs": [],
   "source": [
    "numFeat = 20"
   ]
  },
  {
   "cell_type": "code",
   "execution_count": 12,
   "id": "a7e9454a",
   "metadata": {},
   "outputs": [],
   "source": [
    "#----------------------------------------------\n",
    "# TODO: Complete here.\n",
    "#----------------------------------------------\n",
    "\n",
    "selector = SelectFromModel(estimator=ExtraTreesClassifier(n_estimators=75), max_features=numFeat).fit(train_x, train_y)\n",
    "\n",
    "df_selected_feats3 = df_feats.loc[:, selector.get_support()]\n",
    "df_train_set3 = pd.concat([df_labels, df_selected_feats3], axis=1)\n",
    "\n",
    "# Construct a testing dataset from Partition 2 with only the selected descriptive\n",
    "# features and the target feature\n",
    "df_test_selected_feats3 = df_test_feats.loc[:, selector.get_support()]\n",
    "df_test_set3 = pd.concat([df_test_labels, df_test_selected_feats3], axis=1)"
   ]
  },
  {
   "cell_type": "markdown",
   "id": "39118a80",
   "metadata": {},
   "source": [
    "---\n",
    "### Q3 (5 points)\n",
    "\n",
    "Now that you have three different datasets, you need to convert them each to a binary classification problem datase or dichotomize the training and testing data. Lucky for you, a method has already been provided to do this. All you need to do is apply it to teach of the `DataFrame`s you constructed with the feature selected training and testing data from the exmpale, Q1, and Q2.\n",
    "\n",
    "**Note:** You might want to put the training and testing tuples you get from the call to the dichotomize method into seperate training and testing lists. Then you can loop over them later. "
   ]
  },
  {
   "cell_type": "code",
   "execution_count": 13,
   "id": "67f8b669",
   "metadata": {},
   "outputs": [],
   "source": [
    "#----------------------------------------------\n",
    "# TODO: Complete here.\n",
    "#----------------------------------------------\n",
    "train_x1, train_y1 = dichotomize_X_y(df_train_set1)\n",
    "train_x2, train_y2 = dichotomize_X_y(df_train_set2)\n",
    "train_x3, train_y3 = dichotomize_X_y(df_train_set3)\n",
    "test_x1, test_y1 = dichotomize_X_y(df_test_set1)\n",
    "test_x2, test_y2 = dichotomize_X_y(df_test_set2)\n",
    "test_x3, test_y3 = dichotomize_X_y(df_test_set3)"
   ]
  },
  {
   "cell_type": "markdown",
   "id": "d266a5bc",
   "metadata": {},
   "source": [
    "---\n",
    "### Q4 (10 points)\n",
    "\n",
    "Now that you have your data setup, you will be constructing an [SVC](https://scikit-learn.org/stable/modules/generated/sklearn.svm.SVC.html) model on each one of the different datasets. For this exercise default regularization parameter `C` value of 1.0, the default `kernel` type of `rbf`, and the default setting of the kernel coefficient `gamma` for the `rbf` kernel. You should, however, set the `class_weight` to `balanced` when you construct your models. This way the regularization parameter is adjusted for each class in proportion the occurrence of that class in the dataset.\n",
    "\n",
    "You should train the model on your training data, then test it on the testing data with the same set of selected descriptive features. You will then calculate both the TSS and HSS scores and print them out.\n",
    "\n",
    "**Note:** for more information on what the `C` and `gamma` parameters do on the `rbf` kernel see the [RBF SVM parameters](https://scikit-learn.org/stable/auto_examples/svm/plot_rbf_parameters.html) documentation. We won't be tuning these values in this question, but it is genearally accepted that tuning should be done to find the best performing model. "
   ]
  },
  {
   "cell_type": "code",
   "execution_count": 14,
   "id": "6380e199",
   "metadata": {},
   "outputs": [],
   "source": [
    "selected_labels = ['F-Val', 'FromLasso', 'FromForest']"
   ]
  },
  {
   "cell_type": "code",
   "execution_count": 15,
   "id": "4f99430b",
   "metadata": {},
   "outputs": [
    {
     "name": "stdout",
     "output_type": "stream",
     "text": [
      "TN=76129\tFP=11027\tFN=76\tTP=1325\n",
      "F-Val TSS:  0.8192327710296818\n",
      "F-Val HSS:  0.1690723900997794\n",
      "TN=74890\tFP=12266\tFN=95\tTP=1306\n",
      "FromLasso TSS:  0.7914551406653436\n",
      "FromLasso HSS:  0.15007132148324506\n",
      "TN=76347\tFP=10809\tFN=64\tTP=1337\n",
      "FromForest TSS:  0.8302993436269189\n",
      "FromForest HSS:  0.1739532207745901\n"
     ]
    }
   ],
   "source": [
    "#----------------------------------------------\n",
    "# TODO: Complete here.\n",
    "#----------------------------------------------\n",
    "svc1 = SVC(class_weight=\"balanced\")\n",
    "svc2 = SVC(class_weight=\"balanced\")\n",
    "svc3 = SVC(class_weight=\"balanced\")\n",
    "pred1 = svc1.fit(train_x1, train_y1).predict(test_x1)\n",
    "pred2 = svc2.fit(train_x2, train_y2).predict(test_x2)\n",
    "pred3 = svc3.fit(train_x3, train_y3).predict(test_x3)\n",
    "\n",
    "print(selected_labels[0] + \" TSS: \", calc_tss(test_y1, pred1))\n",
    "print(selected_labels[0] + \" HSS: \", calc_hss(test_y1, pred1))\n",
    "print(selected_labels[1] + \" TSS: \", calc_tss(test_y2, pred2))\n",
    "print(selected_labels[1] + \" HSS: \", calc_hss(test_y2, pred2))\n",
    "print(selected_labels[2] + \" TSS: \", calc_tss(test_y3, pred3))\n",
    "print(selected_labels[2] + \" HSS: \", calc_hss(test_y3, pred3))"
   ]
  },
  {
   "cell_type": "markdown",
   "id": "c795526d",
   "metadata": {},
   "source": [
    "---\n",
    "### Q5 (15 points)\n",
    "\n",
    "After training and testing the SVC model on the above dataset, you will likely see that this process is quite time consuming. This is because the algorithm needs evaluate all the instances in the training dataset to find instances that can be used as points in a separating hyperplane between the samples of different classes.  \n",
    "\n",
    "In order to speed this process, lets reduce the number of samples in the dataset through undersampling the classes like we did before. Unlike was done before, where we just pick some random sample of instances in the various classes, we will be performing some data informed under sampling using the [KMeans](https://scikit-learn.org/stable/modules/generated/sklearn.cluster.KMeans.html#sklearn.cluster.KMeans) clustering algorithm.\n",
    "\n",
    "So, what I want you to do is construct a function (I have started it below) that performs the following:\n",
    "\n",
    "* Groups the data by the `lab` column and finds the size of the smallest group.\n",
    "\n",
    "* For every group of samples in the dataset that is not the smallest group, you will use the KMeans algorithm to cluster the samples into `K` clusters. The size of `K` is the size of the smallest group.  **Note:** You need to make sure you are only using the descriptive features when doing this, so drop the label column from each group.\n",
    "\n",
    "* Once you have the `K` clusters, you will get the cluster centers by using the `cluster_centers_` attribute of your Kmeans object. This attribute is a `(n_clusters, n_features)` array of values. These will be the new set of samples of descriptive features for the class you are processing. You should construct a DataFrame with these and add a label column with your class label for each one of these samples.\n",
    "\n",
    "* The samples for the smalles class group from the original dataset will be the samples you return for that class. \n",
    "\n",
    "* You will need to concatenate all of the results into one DataFrame and return it at the end of the function.\n",
    "\n",
    "Once you have completed the function, you need to apply it to each of your three training sets (the ones that have not had the dicotimize process applied, I hope you kept a copy). Then you will apply the dicotomize process to the sampled training sets and place them into a list for use in the next problem.\n",
    "\n",
    "**Note:** By training our models on representations of the real data instead of the acutal measurements, we are building a type of surrogate model. By doing so, we can approximate how our model might behave when trained with the true data, but can test several different settings much faster than what we otherwise would."
   ]
  },
  {
   "cell_type": "code",
   "execution_count": 16,
   "id": "5a8acd49",
   "metadata": {},
   "outputs": [],
   "source": [
    "def perform_under_sample_clust(data:DataFrame)->DataFrame:\n",
    "    #----------------------------------------------\n",
    "    # TODO: Complete here.\n",
    "    #----------------------------------------------\n",
    "    data_temp = data.copy()\n",
    "    min_value = data_temp.groupby(\"lab\").count().min().values[0]\n",
    "    listLab = data_temp[\"lab\"].drop_duplicates().values.tolist()\n",
    "    feats = data_temp.drop([\"lab\"], axis=1).columns\n",
    "    dfReturn = DataFrame()\n",
    "    for lab in listLab:\n",
    "        kmeans = KMeans(n_clusters=min_value).fit(data_temp.loc[data_temp.loc[:, \"lab\"] == lab, :].drop([\"lab\"], axis=1))\n",
    "        dfReturn_temp = DataFrame(kmeans.cluster_centers_, columns=feats)\n",
    "        dfReturn_temp[\"lab\"] = lab\n",
    "        dfReturn = pd.concat([dfReturn, dfReturn_temp])\n",
    "    dfReturn = dfReturn.reset_index()\n",
    "    return dfReturn"
   ]
  },
  {
   "cell_type": "code",
   "execution_count": 17,
   "id": "7147a815",
   "metadata": {},
   "outputs": [],
   "source": [
    "#----------------------------------------------\n",
    "# TODO: Complete here.\n",
    "#----------------------------------------------\n",
    "df_train_set1_under_sample = perform_under_sample_clust(df_train_set1)\n",
    "df_train_set2_under_sample = perform_under_sample_clust(df_train_set2)\n",
    "df_train_set3_under_sample = perform_under_sample_clust(df_train_set3)\n",
    "df_test_set1_under_sample = perform_under_sample_clust(df_test_set1)\n",
    "df_test_set2_under_sample = perform_under_sample_clust(df_test_set2)\n",
    "df_test_set3_under_sample = perform_under_sample_clust(df_test_set3)\n",
    "\n",
    "train_x1_under_sample, train_y1_under_sample = dichotomize_X_y(df_train_set1_under_sample)\n",
    "train_x2_under_sample, train_y2_under_sample = dichotomize_X_y(df_train_set2_under_sample)\n",
    "train_x3_under_sample, train_y3_under_sample = dichotomize_X_y(df_train_set3_under_sample)\n",
    "test_x1_under_sample, test_y1_under_sample = dichotomize_X_y(df_test_set1_under_sample)\n",
    "test_x2_under_sample, test_y2_under_sample = dichotomize_X_y(df_test_set2_under_sample)\n",
    "test_x3_under_sample, test_y3_under_sample = dichotomize_X_y(df_test_set3_under_sample)"
   ]
  },
  {
   "cell_type": "markdown",
   "id": "7050f3ff",
   "metadata": {},
   "source": [
    "---\n",
    "### 6 (10 points)\n",
    "\n",
    "In question 5 we produced datasets that approxumate what our real data looks like. By training our models on these representations of the real data instead of the acutal measurements, we are building a type of surrogate model. In doing so, we can approximate how our model might behave when trained with the true data, but we obtain a major advantage in that we can test several different settings much faster than what we otherwise would if using the true dataset. We can then use these surrogate results to find a range of the hyperparameters that we might wish to investigate using the true input data.\n",
    "\n",
    "For this question, you will again train your models on the three different feature selected data. However, instead of the full partition 1 training datasets, you will be using the sampling with KMeans training datasets you constructed in Q5. \n",
    "\n",
    "You will again be constructing an [SVC](https://scikit-learn.org/stable/modules/generated/sklearn.svm.SVC.html) model on each one of the different datasets. Like before, you should set the `class_weight` to `balanced` when you construct your models. Unlike the previous question where you traind the models, this time you will be asked to evaluate several different settings for the `kernel`, the regularization parameter `C`, and kernel coefficient `gamma`. **Note:** The `gamma` paramter is only utilized on the ‘rbf’, ‘poly’ and ‘sigmoid’ kernels, so there is no reason to evaluate multiple settings for the `linear` kernel. I have listed the settings of each parameter in a code block below. \n",
    "\n",
    "For each of the settings, you should train the model on your training data, then test it on the testing data with the same set of selected descriptive features. You will then calculate both the TSS and HSS scores and print them out."
   ]
  },
  {
   "cell_type": "code",
   "execution_count": 18,
   "id": "eb95f39d",
   "metadata": {},
   "outputs": [],
   "source": [
    "selected_labels = ['F-Val', 'FromLasso', 'FromForest']"
   ]
  },
  {
   "cell_type": "code",
   "execution_count": 19,
   "id": "38d17f3a",
   "metadata": {},
   "outputs": [],
   "source": [
    "kernel = ['linear', 'poly', 'rbf']\n",
    "c_vals = [ 0.5, 1.0]\n",
    "gamma_vals = [0.5, 1, 10]\n",
    "temp = [kernel, c_vals, gamma_vals]\n",
    "params = list(itertools.product(*temp))"
   ]
  },
  {
   "cell_type": "code",
   "execution_count": 20,
   "id": "6f7f0c3c",
   "metadata": {},
   "outputs": [
    {
     "name": "stdout",
     "output_type": "stream",
     "text": [
      "TN=158\tFP=58\tFN=18\tTP=126\n",
      "TN=158\tFP=58\tFN=18\tTP=126\n",
      "TN=158\tFP=58\tFN=18\tTP=126\n",
      "TN=161\tFP=55\tFN=19\tTP=125\n",
      "TN=161\tFP=55\tFN=19\tTP=125\n",
      "TN=161\tFP=55\tFN=19\tTP=125\n"
     ]
    },
    {
     "name": "stderr",
     "output_type": "stream",
     "text": [
      "C:\\Users\\Hyunki\\anaconda3\\lib\\site-packages\\sklearn\\svm\\_base.py:284: ConvergenceWarning: Solver terminated early (max_iter=1000000000).  Consider pre-processing your data with StandardScaler or MinMaxScaler.\n",
      "  warnings.warn(\n"
     ]
    },
    {
     "name": "stdout",
     "output_type": "stream",
     "text": [
      "TN=157\tFP=59\tFN=50\tTP=94\n"
     ]
    },
    {
     "name": "stderr",
     "output_type": "stream",
     "text": [
      "C:\\Users\\Hyunki\\anaconda3\\lib\\site-packages\\sklearn\\svm\\_base.py:284: ConvergenceWarning: Solver terminated early (max_iter=1000000000).  Consider pre-processing your data with StandardScaler or MinMaxScaler.\n",
      "  warnings.warn(\n"
     ]
    },
    {
     "name": "stdout",
     "output_type": "stream",
     "text": [
      "TN=199\tFP=17\tFN=82\tTP=62\n"
     ]
    },
    {
     "name": "stderr",
     "output_type": "stream",
     "text": [
      "C:\\Users\\Hyunki\\anaconda3\\lib\\site-packages\\sklearn\\svm\\_base.py:284: ConvergenceWarning: Solver terminated early (max_iter=1000000000).  Consider pre-processing your data with StandardScaler or MinMaxScaler.\n",
      "  warnings.warn(\n"
     ]
    },
    {
     "name": "stdout",
     "output_type": "stream",
     "text": [
      "TN=103\tFP=113\tFN=41\tTP=103\n"
     ]
    },
    {
     "name": "stderr",
     "output_type": "stream",
     "text": [
      "C:\\Users\\Hyunki\\anaconda3\\lib\\site-packages\\sklearn\\svm\\_base.py:284: ConvergenceWarning: Solver terminated early (max_iter=1000000000).  Consider pre-processing your data with StandardScaler or MinMaxScaler.\n",
      "  warnings.warn(\n"
     ]
    },
    {
     "name": "stdout",
     "output_type": "stream",
     "text": [
      "TN=163\tFP=53\tFN=62\tTP=82\n"
     ]
    },
    {
     "name": "stderr",
     "output_type": "stream",
     "text": [
      "C:\\Users\\Hyunki\\anaconda3\\lib\\site-packages\\sklearn\\svm\\_base.py:284: ConvergenceWarning: Solver terminated early (max_iter=1000000000).  Consider pre-processing your data with StandardScaler or MinMaxScaler.\n",
      "  warnings.warn(\n"
     ]
    },
    {
     "name": "stdout",
     "output_type": "stream",
     "text": [
      "TN=70\tFP=146\tFN=5\tTP=139\n"
     ]
    },
    {
     "name": "stderr",
     "output_type": "stream",
     "text": [
      "C:\\Users\\Hyunki\\anaconda3\\lib\\site-packages\\sklearn\\svm\\_base.py:284: ConvergenceWarning: Solver terminated early (max_iter=1000000000).  Consider pre-processing your data with StandardScaler or MinMaxScaler.\n",
      "  warnings.warn(\n"
     ]
    },
    {
     "name": "stdout",
     "output_type": "stream",
     "text": [
      "TN=109\tFP=107\tFN=34\tTP=110\n",
      "TN=143\tFP=73\tFN=14\tTP=130\n",
      "TN=141\tFP=75\tFN=14\tTP=130\n",
      "TN=125\tFP=91\tFN=18\tTP=126\n",
      "TN=145\tFP=71\tFN=14\tTP=130\n",
      "TN=141\tFP=75\tFN=14\tTP=130\n",
      "TN=170\tFP=46\tFN=109\tTP=35\n",
      "TN=188\tFP=28\tFN=58\tTP=86\n",
      "TN=188\tFP=28\tFN=58\tTP=86\n",
      "TN=188\tFP=28\tFN=58\tTP=86\n",
      "TN=184\tFP=32\tFN=41\tTP=103\n",
      "TN=184\tFP=32\tFN=41\tTP=103\n",
      "TN=184\tFP=32\tFN=41\tTP=103\n"
     ]
    },
    {
     "name": "stderr",
     "output_type": "stream",
     "text": [
      "C:\\Users\\Hyunki\\anaconda3\\lib\\site-packages\\sklearn\\svm\\_base.py:284: ConvergenceWarning: Solver terminated early (max_iter=1000000000).  Consider pre-processing your data with StandardScaler or MinMaxScaler.\n",
      "  warnings.warn(\n"
     ]
    },
    {
     "name": "stdout",
     "output_type": "stream",
     "text": [
      "TN=151\tFP=65\tFN=39\tTP=105\n"
     ]
    },
    {
     "name": "stderr",
     "output_type": "stream",
     "text": [
      "C:\\Users\\Hyunki\\anaconda3\\lib\\site-packages\\sklearn\\svm\\_base.py:284: ConvergenceWarning: Solver terminated early (max_iter=1000000000).  Consider pre-processing your data with StandardScaler or MinMaxScaler.\n",
      "  warnings.warn(\n"
     ]
    },
    {
     "name": "stdout",
     "output_type": "stream",
     "text": [
      "TN=144\tFP=72\tFN=42\tTP=102\n"
     ]
    },
    {
     "name": "stderr",
     "output_type": "stream",
     "text": [
      "C:\\Users\\Hyunki\\anaconda3\\lib\\site-packages\\sklearn\\svm\\_base.py:284: ConvergenceWarning: Solver terminated early (max_iter=1000000000).  Consider pre-processing your data with StandardScaler or MinMaxScaler.\n",
      "  warnings.warn(\n"
     ]
    },
    {
     "name": "stdout",
     "output_type": "stream",
     "text": [
      "TN=113\tFP=103\tFN=35\tTP=109\n"
     ]
    },
    {
     "name": "stderr",
     "output_type": "stream",
     "text": [
      "C:\\Users\\Hyunki\\anaconda3\\lib\\site-packages\\sklearn\\svm\\_base.py:284: ConvergenceWarning: Solver terminated early (max_iter=1000000000).  Consider pre-processing your data with StandardScaler or MinMaxScaler.\n",
      "  warnings.warn(\n"
     ]
    },
    {
     "name": "stdout",
     "output_type": "stream",
     "text": [
      "TN=167\tFP=49\tFN=50\tTP=94\n"
     ]
    },
    {
     "name": "stderr",
     "output_type": "stream",
     "text": [
      "C:\\Users\\Hyunki\\anaconda3\\lib\\site-packages\\sklearn\\svm\\_base.py:284: ConvergenceWarning: Solver terminated early (max_iter=1000000000).  Consider pre-processing your data with StandardScaler or MinMaxScaler.\n",
      "  warnings.warn(\n"
     ]
    },
    {
     "name": "stdout",
     "output_type": "stream",
     "text": [
      "TN=152\tFP=64\tFN=49\tTP=95\n"
     ]
    },
    {
     "name": "stderr",
     "output_type": "stream",
     "text": [
      "C:\\Users\\Hyunki\\anaconda3\\lib\\site-packages\\sklearn\\svm\\_base.py:284: ConvergenceWarning: Solver terminated early (max_iter=1000000000).  Consider pre-processing your data with StandardScaler or MinMaxScaler.\n",
      "  warnings.warn(\n"
     ]
    },
    {
     "name": "stdout",
     "output_type": "stream",
     "text": [
      "TN=58\tFP=158\tFN=18\tTP=126\n",
      "TN=176\tFP=40\tFN=89\tTP=55\n",
      "TN=115\tFP=101\tFN=56\tTP=88\n",
      "TN=100\tFP=116\tFN=29\tTP=115\n",
      "TN=182\tFP=34\tFN=97\tTP=47\n",
      "TN=159\tFP=57\tFN=66\tTP=78\n",
      "TN=158\tFP=58\tFN=66\tTP=78\n",
      "TN=168\tFP=48\tFN=16\tTP=128\n",
      "TN=168\tFP=48\tFN=16\tTP=128\n",
      "TN=168\tFP=48\tFN=16\tTP=128\n",
      "TN=173\tFP=43\tFN=17\tTP=127\n",
      "TN=173\tFP=43\tFN=17\tTP=127\n",
      "TN=173\tFP=43\tFN=17\tTP=127\n"
     ]
    },
    {
     "name": "stderr",
     "output_type": "stream",
     "text": [
      "C:\\Users\\Hyunki\\anaconda3\\lib\\site-packages\\sklearn\\svm\\_base.py:284: ConvergenceWarning: Solver terminated early (max_iter=1000000000).  Consider pre-processing your data with StandardScaler or MinMaxScaler.\n",
      "  warnings.warn(\n"
     ]
    },
    {
     "name": "stdout",
     "output_type": "stream",
     "text": [
      "TN=175\tFP=41\tFN=36\tTP=108\n"
     ]
    },
    {
     "name": "stderr",
     "output_type": "stream",
     "text": [
      "C:\\Users\\Hyunki\\anaconda3\\lib\\site-packages\\sklearn\\svm\\_base.py:284: ConvergenceWarning: Solver terminated early (max_iter=1000000000).  Consider pre-processing your data with StandardScaler or MinMaxScaler.\n",
      "  warnings.warn(\n"
     ]
    },
    {
     "name": "stdout",
     "output_type": "stream",
     "text": [
      "TN=168\tFP=48\tFN=38\tTP=106\n"
     ]
    },
    {
     "name": "stderr",
     "output_type": "stream",
     "text": [
      "C:\\Users\\Hyunki\\anaconda3\\lib\\site-packages\\sklearn\\svm\\_base.py:284: ConvergenceWarning: Solver terminated early (max_iter=1000000000).  Consider pre-processing your data with StandardScaler or MinMaxScaler.\n",
      "  warnings.warn(\n"
     ]
    },
    {
     "name": "stdout",
     "output_type": "stream",
     "text": [
      "TN=154\tFP=62\tFN=76\tTP=68\n"
     ]
    },
    {
     "name": "stderr",
     "output_type": "stream",
     "text": [
      "C:\\Users\\Hyunki\\anaconda3\\lib\\site-packages\\sklearn\\svm\\_base.py:284: ConvergenceWarning: Solver terminated early (max_iter=1000000000).  Consider pre-processing your data with StandardScaler or MinMaxScaler.\n",
      "  warnings.warn(\n"
     ]
    },
    {
     "name": "stdout",
     "output_type": "stream",
     "text": [
      "TN=162\tFP=54\tFN=39\tTP=105\n"
     ]
    },
    {
     "name": "stderr",
     "output_type": "stream",
     "text": [
      "C:\\Users\\Hyunki\\anaconda3\\lib\\site-packages\\sklearn\\svm\\_base.py:284: ConvergenceWarning: Solver terminated early (max_iter=1000000000).  Consider pre-processing your data with StandardScaler or MinMaxScaler.\n",
      "  warnings.warn(\n"
     ]
    },
    {
     "name": "stdout",
     "output_type": "stream",
     "text": [
      "TN=127\tFP=89\tFN=11\tTP=133\n"
     ]
    },
    {
     "name": "stderr",
     "output_type": "stream",
     "text": [
      "C:\\Users\\Hyunki\\anaconda3\\lib\\site-packages\\sklearn\\svm\\_base.py:284: ConvergenceWarning: Solver terminated early (max_iter=1000000000).  Consider pre-processing your data with StandardScaler or MinMaxScaler.\n",
      "  warnings.warn(\n"
     ]
    },
    {
     "name": "stdout",
     "output_type": "stream",
     "text": [
      "TN=191\tFP=25\tFN=90\tTP=54\n",
      "TN=155\tFP=61\tFN=13\tTP=131\n",
      "TN=157\tFP=59\tFN=19\tTP=125\n",
      "TN=204\tFP=12\tFN=124\tTP=20\n",
      "TN=156\tFP=60\tFN=17\tTP=127\n",
      "TN=156\tFP=60\tFN=22\tTP=122\n",
      "TN=191\tFP=25\tFN=115\tTP=29\n"
     ]
    },
    {
     "data": {
      "text/html": [
       "<div>\n",
       "<style scoped>\n",
       "    .dataframe tbody tr th:only-of-type {\n",
       "        vertical-align: middle;\n",
       "    }\n",
       "\n",
       "    .dataframe tbody tr th {\n",
       "        vertical-align: top;\n",
       "    }\n",
       "\n",
       "    .dataframe thead th {\n",
       "        text-align: right;\n",
       "    }\n",
       "</style>\n",
       "<table border=\"1\" class=\"dataframe\">\n",
       "  <thead>\n",
       "    <tr style=\"text-align: right;\">\n",
       "      <th></th>\n",
       "      <th>selected_labels</th>\n",
       "      <th>kernel</th>\n",
       "      <th>c_vals</th>\n",
       "      <th>gamma_vals</th>\n",
       "      <th>tss</th>\n",
       "      <th>hss</th>\n",
       "    </tr>\n",
       "  </thead>\n",
       "  <tbody>\n",
       "    <tr>\n",
       "      <th>0</th>\n",
       "      <td>F-Val</td>\n",
       "      <td>linear</td>\n",
       "      <td>0.5</td>\n",
       "      <td>0.5</td>\n",
       "      <td>0.606481</td>\n",
       "      <td>0.579646</td>\n",
       "    </tr>\n",
       "    <tr>\n",
       "      <th>1</th>\n",
       "      <td>F-Val</td>\n",
       "      <td>linear</td>\n",
       "      <td>0.5</td>\n",
       "      <td>1.0</td>\n",
       "      <td>0.606481</td>\n",
       "      <td>0.579646</td>\n",
       "    </tr>\n",
       "    <tr>\n",
       "      <th>2</th>\n",
       "      <td>F-Val</td>\n",
       "      <td>linear</td>\n",
       "      <td>0.5</td>\n",
       "      <td>10.0</td>\n",
       "      <td>0.606481</td>\n",
       "      <td>0.579646</td>\n",
       "    </tr>\n",
       "    <tr>\n",
       "      <th>3</th>\n",
       "      <td>F-Val</td>\n",
       "      <td>linear</td>\n",
       "      <td>1.0</td>\n",
       "      <td>0.5</td>\n",
       "      <td>0.613426</td>\n",
       "      <td>0.588889</td>\n",
       "    </tr>\n",
       "    <tr>\n",
       "      <th>4</th>\n",
       "      <td>F-Val</td>\n",
       "      <td>linear</td>\n",
       "      <td>1.0</td>\n",
       "      <td>1.0</td>\n",
       "      <td>0.613426</td>\n",
       "      <td>0.588889</td>\n",
       "    </tr>\n",
       "    <tr>\n",
       "      <th>5</th>\n",
       "      <td>F-Val</td>\n",
       "      <td>linear</td>\n",
       "      <td>1.0</td>\n",
       "      <td>10.0</td>\n",
       "      <td>0.613426</td>\n",
       "      <td>0.588889</td>\n",
       "    </tr>\n",
       "    <tr>\n",
       "      <th>6</th>\n",
       "      <td>F-Val</td>\n",
       "      <td>poly</td>\n",
       "      <td>0.5</td>\n",
       "      <td>0.5</td>\n",
       "      <td>0.379630</td>\n",
       "      <td>0.375716</td>\n",
       "    </tr>\n",
       "    <tr>\n",
       "      <th>7</th>\n",
       "      <td>F-Val</td>\n",
       "      <td>poly</td>\n",
       "      <td>0.5</td>\n",
       "      <td>1.0</td>\n",
       "      <td>0.351852</td>\n",
       "      <td>0.380476</td>\n",
       "    </tr>\n",
       "    <tr>\n",
       "      <th>8</th>\n",
       "      <td>F-Val</td>\n",
       "      <td>poly</td>\n",
       "      <td>0.5</td>\n",
       "      <td>10.0</td>\n",
       "      <td>0.192130</td>\n",
       "      <td>0.177350</td>\n",
       "    </tr>\n",
       "    <tr>\n",
       "      <th>9</th>\n",
       "      <td>F-Val</td>\n",
       "      <td>poly</td>\n",
       "      <td>1.0</td>\n",
       "      <td>0.5</td>\n",
       "      <td>0.324074</td>\n",
       "      <td>0.327485</td>\n",
       "    </tr>\n",
       "    <tr>\n",
       "      <th>10</th>\n",
       "      <td>F-Val</td>\n",
       "      <td>poly</td>\n",
       "      <td>1.0</td>\n",
       "      <td>1.0</td>\n",
       "      <td>0.289352</td>\n",
       "      <td>0.248756</td>\n",
       "    </tr>\n",
       "    <tr>\n",
       "      <th>11</th>\n",
       "      <td>F-Val</td>\n",
       "      <td>poly</td>\n",
       "      <td>1.0</td>\n",
       "      <td>10.0</td>\n",
       "      <td>0.268519</td>\n",
       "      <td>0.247599</td>\n",
       "    </tr>\n",
       "    <tr>\n",
       "      <th>12</th>\n",
       "      <td>F-Val</td>\n",
       "      <td>rbf</td>\n",
       "      <td>0.5</td>\n",
       "      <td>0.5</td>\n",
       "      <td>0.564815</td>\n",
       "      <td>0.528711</td>\n",
       "    </tr>\n",
       "    <tr>\n",
       "      <th>13</th>\n",
       "      <td>F-Val</td>\n",
       "      <td>rbf</td>\n",
       "      <td>0.5</td>\n",
       "      <td>1.0</td>\n",
       "      <td>0.555556</td>\n",
       "      <td>0.518919</td>\n",
       "    </tr>\n",
       "    <tr>\n",
       "      <th>14</th>\n",
       "      <td>F-Val</td>\n",
       "      <td>rbf</td>\n",
       "      <td>0.5</td>\n",
       "      <td>10.0</td>\n",
       "      <td>0.453704</td>\n",
       "      <td>0.418356</td>\n",
       "    </tr>\n",
       "    <tr>\n",
       "      <th>15</th>\n",
       "      <td>F-Val</td>\n",
       "      <td>rbf</td>\n",
       "      <td>1.0</td>\n",
       "      <td>0.5</td>\n",
       "      <td>0.574074</td>\n",
       "      <td>0.538545</td>\n",
       "    </tr>\n",
       "    <tr>\n",
       "      <th>16</th>\n",
       "      <td>F-Val</td>\n",
       "      <td>rbf</td>\n",
       "      <td>1.0</td>\n",
       "      <td>1.0</td>\n",
       "      <td>0.555556</td>\n",
       "      <td>0.518919</td>\n",
       "    </tr>\n",
       "    <tr>\n",
       "      <th>17</th>\n",
       "      <td>F-Val</td>\n",
       "      <td>rbf</td>\n",
       "      <td>1.0</td>\n",
       "      <td>10.0</td>\n",
       "      <td>0.030093</td>\n",
       "      <td>0.032459</td>\n",
       "    </tr>\n",
       "    <tr>\n",
       "      <th>18</th>\n",
       "      <td>FromLasso</td>\n",
       "      <td>linear</td>\n",
       "      <td>0.5</td>\n",
       "      <td>0.5</td>\n",
       "      <td>0.467593</td>\n",
       "      <td>0.484412</td>\n",
       "    </tr>\n",
       "    <tr>\n",
       "      <th>19</th>\n",
       "      <td>FromLasso</td>\n",
       "      <td>linear</td>\n",
       "      <td>0.5</td>\n",
       "      <td>1.0</td>\n",
       "      <td>0.467593</td>\n",
       "      <td>0.484412</td>\n",
       "    </tr>\n",
       "    <tr>\n",
       "      <th>20</th>\n",
       "      <td>FromLasso</td>\n",
       "      <td>linear</td>\n",
       "      <td>0.5</td>\n",
       "      <td>10.0</td>\n",
       "      <td>0.467593</td>\n",
       "      <td>0.484412</td>\n",
       "    </tr>\n",
       "    <tr>\n",
       "      <th>21</th>\n",
       "      <td>FromLasso</td>\n",
       "      <td>linear</td>\n",
       "      <td>1.0</td>\n",
       "      <td>0.5</td>\n",
       "      <td>0.567130</td>\n",
       "      <td>0.573099</td>\n",
       "    </tr>\n",
       "    <tr>\n",
       "      <th>22</th>\n",
       "      <td>FromLasso</td>\n",
       "      <td>linear</td>\n",
       "      <td>1.0</td>\n",
       "      <td>1.0</td>\n",
       "      <td>0.567130</td>\n",
       "      <td>0.573099</td>\n",
       "    </tr>\n",
       "    <tr>\n",
       "      <th>23</th>\n",
       "      <td>FromLasso</td>\n",
       "      <td>linear</td>\n",
       "      <td>1.0</td>\n",
       "      <td>10.0</td>\n",
       "      <td>0.567130</td>\n",
       "      <td>0.573099</td>\n",
       "    </tr>\n",
       "    <tr>\n",
       "      <th>24</th>\n",
       "      <td>FromLasso</td>\n",
       "      <td>poly</td>\n",
       "      <td>0.5</td>\n",
       "      <td>0.5</td>\n",
       "      <td>0.428241</td>\n",
       "      <td>0.415730</td>\n",
       "    </tr>\n",
       "    <tr>\n",
       "      <th>25</th>\n",
       "      <td>FromLasso</td>\n",
       "      <td>poly</td>\n",
       "      <td>0.5</td>\n",
       "      <td>1.0</td>\n",
       "      <td>0.375000</td>\n",
       "      <td>0.362416</td>\n",
       "    </tr>\n",
       "    <tr>\n",
       "      <th>26</th>\n",
       "      <td>FromLasso</td>\n",
       "      <td>poly</td>\n",
       "      <td>0.5</td>\n",
       "      <td>10.0</td>\n",
       "      <td>0.280093</td>\n",
       "      <td>0.259657</td>\n",
       "    </tr>\n",
       "    <tr>\n",
       "      <th>27</th>\n",
       "      <td>FromLasso</td>\n",
       "      <td>poly</td>\n",
       "      <td>1.0</td>\n",
       "      <td>0.5</td>\n",
       "      <td>0.425926</td>\n",
       "      <td>0.426419</td>\n",
       "    </tr>\n",
       "    <tr>\n",
       "      <th>28</th>\n",
       "      <td>FromLasso</td>\n",
       "      <td>poly</td>\n",
       "      <td>1.0</td>\n",
       "      <td>1.0</td>\n",
       "      <td>0.363426</td>\n",
       "      <td>0.357224</td>\n",
       "    </tr>\n",
       "    <tr>\n",
       "      <th>29</th>\n",
       "      <td>FromLasso</td>\n",
       "      <td>poly</td>\n",
       "      <td>1.0</td>\n",
       "      <td>10.0</td>\n",
       "      <td>0.143519</td>\n",
       "      <td>0.123506</td>\n",
       "    </tr>\n",
       "    <tr>\n",
       "      <th>30</th>\n",
       "      <td>FromLasso</td>\n",
       "      <td>rbf</td>\n",
       "      <td>0.5</td>\n",
       "      <td>0.5</td>\n",
       "      <td>0.196759</td>\n",
       "      <td>0.208589</td>\n",
       "    </tr>\n",
       "    <tr>\n",
       "      <th>31</th>\n",
       "      <td>FromLasso</td>\n",
       "      <td>rbf</td>\n",
       "      <td>0.5</td>\n",
       "      <td>1.0</td>\n",
       "      <td>0.143519</td>\n",
       "      <td>0.136414</td>\n",
       "    </tr>\n",
       "    <tr>\n",
       "      <th>32</th>\n",
       "      <td>FromLasso</td>\n",
       "      <td>rbf</td>\n",
       "      <td>0.5</td>\n",
       "      <td>10.0</td>\n",
       "      <td>0.261574</td>\n",
       "      <td>0.237645</td>\n",
       "    </tr>\n",
       "    <tr>\n",
       "      <th>33</th>\n",
       "      <td>FromLasso</td>\n",
       "      <td>rbf</td>\n",
       "      <td>1.0</td>\n",
       "      <td>0.5</td>\n",
       "      <td>0.168981</td>\n",
       "      <td>0.182272</td>\n",
       "    </tr>\n",
       "    <tr>\n",
       "      <th>34</th>\n",
       "      <td>FromLasso</td>\n",
       "      <td>rbf</td>\n",
       "      <td>1.0</td>\n",
       "      <td>1.0</td>\n",
       "      <td>0.277778</td>\n",
       "      <td>0.280702</td>\n",
       "    </tr>\n",
       "    <tr>\n",
       "      <th>35</th>\n",
       "      <td>FromLasso</td>\n",
       "      <td>rbf</td>\n",
       "      <td>1.0</td>\n",
       "      <td>10.0</td>\n",
       "      <td>0.273148</td>\n",
       "      <td>0.275701</td>\n",
       "    </tr>\n",
       "    <tr>\n",
       "      <th>36</th>\n",
       "      <td>FromForest</td>\n",
       "      <td>linear</td>\n",
       "      <td>0.5</td>\n",
       "      <td>0.5</td>\n",
       "      <td>0.666667</td>\n",
       "      <td>0.642857</td>\n",
       "    </tr>\n",
       "    <tr>\n",
       "      <th>37</th>\n",
       "      <td>FromForest</td>\n",
       "      <td>linear</td>\n",
       "      <td>0.5</td>\n",
       "      <td>1.0</td>\n",
       "      <td>0.666667</td>\n",
       "      <td>0.642857</td>\n",
       "    </tr>\n",
       "    <tr>\n",
       "      <th>38</th>\n",
       "      <td>FromForest</td>\n",
       "      <td>linear</td>\n",
       "      <td>0.5</td>\n",
       "      <td>10.0</td>\n",
       "      <td>0.666667</td>\n",
       "      <td>0.642857</td>\n",
       "    </tr>\n",
       "    <tr>\n",
       "      <th>39</th>\n",
       "      <td>FromForest</td>\n",
       "      <td>linear</td>\n",
       "      <td>1.0</td>\n",
       "      <td>0.5</td>\n",
       "      <td>0.682870</td>\n",
       "      <td>0.662921</td>\n",
       "    </tr>\n",
       "    <tr>\n",
       "      <th>40</th>\n",
       "      <td>FromForest</td>\n",
       "      <td>linear</td>\n",
       "      <td>1.0</td>\n",
       "      <td>1.0</td>\n",
       "      <td>0.682870</td>\n",
       "      <td>0.662921</td>\n",
       "    </tr>\n",
       "    <tr>\n",
       "      <th>41</th>\n",
       "      <td>FromForest</td>\n",
       "      <td>linear</td>\n",
       "      <td>1.0</td>\n",
       "      <td>10.0</td>\n",
       "      <td>0.682870</td>\n",
       "      <td>0.662921</td>\n",
       "    </tr>\n",
       "    <tr>\n",
       "      <th>42</th>\n",
       "      <td>FromForest</td>\n",
       "      <td>poly</td>\n",
       "      <td>0.5</td>\n",
       "      <td>0.5</td>\n",
       "      <td>0.560185</td>\n",
       "      <td>0.556962</td>\n",
       "    </tr>\n",
       "    <tr>\n",
       "      <th>43</th>\n",
       "      <td>FromForest</td>\n",
       "      <td>poly</td>\n",
       "      <td>0.5</td>\n",
       "      <td>1.0</td>\n",
       "      <td>0.513889</td>\n",
       "      <td>0.508009</td>\n",
       "    </tr>\n",
       "    <tr>\n",
       "      <th>44</th>\n",
       "      <td>FromForest</td>\n",
       "      <td>poly</td>\n",
       "      <td>0.5</td>\n",
       "      <td>10.0</td>\n",
       "      <td>0.185185</td>\n",
       "      <td>0.188235</td>\n",
       "    </tr>\n",
       "    <tr>\n",
       "      <th>45</th>\n",
       "      <td>FromForest</td>\n",
       "      <td>poly</td>\n",
       "      <td>1.0</td>\n",
       "      <td>0.5</td>\n",
       "      <td>0.479167</td>\n",
       "      <td>0.470990</td>\n",
       "    </tr>\n",
       "    <tr>\n",
       "      <th>46</th>\n",
       "      <td>FromForest</td>\n",
       "      <td>poly</td>\n",
       "      <td>1.0</td>\n",
       "      <td>1.0</td>\n",
       "      <td>0.511574</td>\n",
       "      <td>0.469214</td>\n",
       "    </tr>\n",
       "    <tr>\n",
       "      <th>47</th>\n",
       "      <td>FromForest</td>\n",
       "      <td>poly</td>\n",
       "      <td>1.0</td>\n",
       "      <td>10.0</td>\n",
       "      <td>0.259259</td>\n",
       "      <td>0.280350</td>\n",
       "    </tr>\n",
       "    <tr>\n",
       "      <th>48</th>\n",
       "      <td>FromForest</td>\n",
       "      <td>rbf</td>\n",
       "      <td>0.5</td>\n",
       "      <td>0.5</td>\n",
       "      <td>0.627315</td>\n",
       "      <td>0.594298</td>\n",
       "    </tr>\n",
       "    <tr>\n",
       "      <th>49</th>\n",
       "      <td>FromForest</td>\n",
       "      <td>rbf</td>\n",
       "      <td>0.5</td>\n",
       "      <td>1.0</td>\n",
       "      <td>0.594907</td>\n",
       "      <td>0.568584</td>\n",
       "    </tr>\n",
       "    <tr>\n",
       "      <th>50</th>\n",
       "      <td>FromForest</td>\n",
       "      <td>rbf</td>\n",
       "      <td>0.5</td>\n",
       "      <td>10.0</td>\n",
       "      <td>0.083333</td>\n",
       "      <td>0.095745</td>\n",
       "    </tr>\n",
       "    <tr>\n",
       "      <th>51</th>\n",
       "      <td>FromForest</td>\n",
       "      <td>rbf</td>\n",
       "      <td>1.0</td>\n",
       "      <td>0.5</td>\n",
       "      <td>0.604167</td>\n",
       "      <td>0.575524</td>\n",
       "    </tr>\n",
       "    <tr>\n",
       "      <th>52</th>\n",
       "      <td>FromForest</td>\n",
       "      <td>rbf</td>\n",
       "      <td>1.0</td>\n",
       "      <td>1.0</td>\n",
       "      <td>0.569444</td>\n",
       "      <td>0.545455</td>\n",
       "    </tr>\n",
       "    <tr>\n",
       "      <th>53</th>\n",
       "      <td>FromForest</td>\n",
       "      <td>rbf</td>\n",
       "      <td>1.0</td>\n",
       "      <td>10.0</td>\n",
       "      <td>0.085648</td>\n",
       "      <td>0.095607</td>\n",
       "    </tr>\n",
       "  </tbody>\n",
       "</table>\n",
       "</div>"
      ],
      "text/plain": [
       "   selected_labels  kernel  c_vals  gamma_vals       tss       hss\n",
       "0            F-Val  linear     0.5         0.5  0.606481  0.579646\n",
       "1            F-Val  linear     0.5         1.0  0.606481  0.579646\n",
       "2            F-Val  linear     0.5        10.0  0.606481  0.579646\n",
       "3            F-Val  linear     1.0         0.5  0.613426  0.588889\n",
       "4            F-Val  linear     1.0         1.0  0.613426  0.588889\n",
       "5            F-Val  linear     1.0        10.0  0.613426  0.588889\n",
       "6            F-Val    poly     0.5         0.5  0.379630  0.375716\n",
       "7            F-Val    poly     0.5         1.0  0.351852  0.380476\n",
       "8            F-Val    poly     0.5        10.0  0.192130  0.177350\n",
       "9            F-Val    poly     1.0         0.5  0.324074  0.327485\n",
       "10           F-Val    poly     1.0         1.0  0.289352  0.248756\n",
       "11           F-Val    poly     1.0        10.0  0.268519  0.247599\n",
       "12           F-Val     rbf     0.5         0.5  0.564815  0.528711\n",
       "13           F-Val     rbf     0.5         1.0  0.555556  0.518919\n",
       "14           F-Val     rbf     0.5        10.0  0.453704  0.418356\n",
       "15           F-Val     rbf     1.0         0.5  0.574074  0.538545\n",
       "16           F-Val     rbf     1.0         1.0  0.555556  0.518919\n",
       "17           F-Val     rbf     1.0        10.0  0.030093  0.032459\n",
       "18       FromLasso  linear     0.5         0.5  0.467593  0.484412\n",
       "19       FromLasso  linear     0.5         1.0  0.467593  0.484412\n",
       "20       FromLasso  linear     0.5        10.0  0.467593  0.484412\n",
       "21       FromLasso  linear     1.0         0.5  0.567130  0.573099\n",
       "22       FromLasso  linear     1.0         1.0  0.567130  0.573099\n",
       "23       FromLasso  linear     1.0        10.0  0.567130  0.573099\n",
       "24       FromLasso    poly     0.5         0.5  0.428241  0.415730\n",
       "25       FromLasso    poly     0.5         1.0  0.375000  0.362416\n",
       "26       FromLasso    poly     0.5        10.0  0.280093  0.259657\n",
       "27       FromLasso    poly     1.0         0.5  0.425926  0.426419\n",
       "28       FromLasso    poly     1.0         1.0  0.363426  0.357224\n",
       "29       FromLasso    poly     1.0        10.0  0.143519  0.123506\n",
       "30       FromLasso     rbf     0.5         0.5  0.196759  0.208589\n",
       "31       FromLasso     rbf     0.5         1.0  0.143519  0.136414\n",
       "32       FromLasso     rbf     0.5        10.0  0.261574  0.237645\n",
       "33       FromLasso     rbf     1.0         0.5  0.168981  0.182272\n",
       "34       FromLasso     rbf     1.0         1.0  0.277778  0.280702\n",
       "35       FromLasso     rbf     1.0        10.0  0.273148  0.275701\n",
       "36      FromForest  linear     0.5         0.5  0.666667  0.642857\n",
       "37      FromForest  linear     0.5         1.0  0.666667  0.642857\n",
       "38      FromForest  linear     0.5        10.0  0.666667  0.642857\n",
       "39      FromForest  linear     1.0         0.5  0.682870  0.662921\n",
       "40      FromForest  linear     1.0         1.0  0.682870  0.662921\n",
       "41      FromForest  linear     1.0        10.0  0.682870  0.662921\n",
       "42      FromForest    poly     0.5         0.5  0.560185  0.556962\n",
       "43      FromForest    poly     0.5         1.0  0.513889  0.508009\n",
       "44      FromForest    poly     0.5        10.0  0.185185  0.188235\n",
       "45      FromForest    poly     1.0         0.5  0.479167  0.470990\n",
       "46      FromForest    poly     1.0         1.0  0.511574  0.469214\n",
       "47      FromForest    poly     1.0        10.0  0.259259  0.280350\n",
       "48      FromForest     rbf     0.5         0.5  0.627315  0.594298\n",
       "49      FromForest     rbf     0.5         1.0  0.594907  0.568584\n",
       "50      FromForest     rbf     0.5        10.0  0.083333  0.095745\n",
       "51      FromForest     rbf     1.0         0.5  0.604167  0.575524\n",
       "52      FromForest     rbf     1.0         1.0  0.569444  0.545455\n",
       "53      FromForest     rbf     1.0        10.0  0.085648  0.095607"
      ]
     },
     "execution_count": 20,
     "metadata": {},
     "output_type": "execute_result"
    }
   ],
   "source": [
    "#----------------------------------------------\n",
    "# TODO: Complete here.\n",
    "# I set up the max_iter since the process takes too long time. \n",
    "#----------------------------------------------\n",
    "listTrainSet = [(train_x1_under_sample, train_y1_under_sample), (train_x2_under_sample, train_y2_under_sample), (train_x3_under_sample, train_y3_under_sample)]\n",
    "listTestSet = [(test_x1_under_sample, test_y1_under_sample), (test_x2_under_sample, test_y2_under_sample), (test_x3_under_sample, test_y3_under_sample)]\n",
    "\n",
    "listResult = []\n",
    "for sel_label, (train_x, train_y), (test_x, test_y) in zip(selected_labels, listTrainSet, listTestSet):\n",
    "    for kernel, c_val, gamma in params:\n",
    "        svc = SVC(class_weight=\"balanced\", kernel=kernel, C=c_val, gamma=gamma, max_iter=1000000000)\n",
    "        pred = svc.fit(train_x, train_y).predict(test_x)\n",
    "        listResult.append([sel_label, kernel, c_val, gamma, calc_tss(test_y, pred), calc_hss(test_y, pred)])\n",
    "\n",
    "dfResult = DataFrame(listResult, columns=[\"selected_labels\", \"kernel\", \"c_vals\", \"gamma_vals\", \"tss\", \"hss\"])\n",
    "dfResult\n"
   ]
  },
  {
   "cell_type": "markdown",
   "id": "49462023",
   "metadata": {},
   "source": [
    "---\n",
    "### 7 (10 points)\n",
    "\n",
    "Results above were able to find some combinations of hyperparamters and datasets that work fairly well for our problem. But the question remains, can we do better?\n",
    "\n",
    "Maybe one way to improve our results would be to elinate the easy to classify instances from our dataset and only focus our efforts on the more difficult ones. If you recall from our data preparation there was a feature in our dataset that we could use to easily distinguish between a rather large percentage of `flare` and `non-flare` data. This feature was `R_VALUE_median`, but we don't know what value to use to filter off part of our data.\n",
    "\n",
    "So, for this question, let's plot and see where a good cutoff might be. To do this, let's use the seaborn [ecdfplot](https://seaborn.pydata.org/generated/seaborn.ecdfplot.html#seaborn.ecdfplot) or the cumulative distribution function plot.  Your input will be the original analytics base table of partition one.  You should set the `x` axis to `R_VALUE_median`, and set the `hue` to `lab`.\n",
    "\n",
    "After plotting this, you will see that around 0.5 we begin to see some instances of the `M` and around 0.7 we begin to see some instances of the `X` class flares in our dataset. So, use 0.5 as a threshold value to filter out all of the instances that fall below this threshold from our training data. Construct a copy of the original partition 1 data with this applied.\n",
    "\n",
    "You can then verify this using the seaborn [kdeplot](https://seaborn.pydata.org/generated/seaborn.kdeplot.html#seaborn.kdeplot) using the new filtered data as input, setting `x` to `R_VALUE_median` again, and setting `hue` to `lab` again.  "
   ]
  },
  {
   "cell_type": "code",
   "execution_count": 21,
   "id": "da16e776",
   "metadata": {},
   "outputs": [
    {
     "data": {
      "text/plain": [
       "<AxesSubplot:xlabel='R_VALUE_median', ylabel='Density'>"
      ]
     },
     "execution_count": 21,
     "metadata": {},
     "output_type": "execute_result"
    },
    {
     "data": {
      "image/png": "[encoded data removed]",
      "text/plain": [
       "<Figure size 720x720 with 2 Axes>"
      ]
     },
     "metadata": {
      "needs_background": "light"
     },
     "output_type": "display_data"
    }
   ],
   "source": [
    "#----------------------------------------------\n",
    "# TODO: Complete here.\n",
    "#----------------------------------------------\n",
    "plt.figure(figsize=(10,10))\n",
    "plt.subplot(2, 1, 1)                \n",
    "sns.ecdfplot(data=abt, x=\"R_VALUE_median\", hue=\"lab\")\n",
    "\n",
    "numFeat = 20\n",
    "\n",
    "# Split the target and descriptive features for Partition 1 into two \n",
    "# different DataFrame objects\n",
    "abt_filtered = abt.copy().loc[abt[\"R_VALUE_median\"] > 0.5, :]\n",
    "df_labels_filtered = abt_filtered['lab']\n",
    "df_feats_filtered = abt_filtered.drop(['lab'], axis=1)\n",
    "plt.subplot(2, 1, 2)                \n",
    "sns.kdeplot(data=abt_filtered, x=\"R_VALUE_median\", hue=\"lab\")"
   ]
  },
  {
   "cell_type": "markdown",
   "id": "33c0dba1",
   "metadata": {},
   "source": [
    "---\n",
    "### 8 (10 points)\n",
    "\n",
    "For this question, you will utilize the filtered analytics base table you constructed in the previous question.  You should:\n",
    "\n",
    "* Repeat the feature selection I did for you in the  example using the [SelectKBest](https://scikit-learn.org/stable/modules/generated/sklearn.feature_selection.SelectKBest.html#sklearn.feature_selection.SelectKBest) class from [scikit-learn Univariate Feature Selection](https://scikit-learn.org/stable/modules/feature_selection.html#univariate-feature-selection), and scoring function [scikit-learn f_classif](https://scikit-learn.org/stable/modules/generated/sklearn.feature_selection.f_classif.html#sklearn.feature_selection.f_classif).\n",
    "\n",
    "* Repeat the feature selection from Q1 using the [SelectFromModel](https://scikit-learn.org/stable/modules/generated/sklearn.feature_selection.SelectFromModel.html#sklearn.feature_selection.SelectFromModel) class from [scikit-learn Univariate Feature Selection](https://scikit-learn.org/stable/modules/feature_selection.html#univariate-feature-selection), and utilizing the [LassoLars](https://scikit-learn.org/stable/modules/generated/sklearn.linear_model.LassoLars.html#sklearn.linear_model.LassoLars) as your `estimator`.  You should also set the `max_features` to the number of features we are going to select (20 features).\n",
    "\n",
    "* Repeat the feature selection from Q2 using [SelectFromModel](https://scikit-learn.org/stable/modules/generated/sklearn.feature_selection.SelectFromModel.html#sklearn.feature_selection.SelectFromModel) class from [scikit-learn Univariate Feature Selection](https://scikit-learn.org/stable/modules/feature_selection.html#univariate-feature-selection). With a random forest model called [ExtraTressClssifier](https://scikit-learn.org/stable/modules/generated/sklearn.ensemble.ExtraTreesClassifier.html#sklearn.ensemble.ExtraTreesClassifier) as the `estimator`. The `n_estimators` of the random forest algorithm should be set to `75` when you construct it. The `max_features` of the SelectFromModel should be set to the number of features we are going to select (20 features)."
   ]
  },
  {
   "cell_type": "code",
   "execution_count": 22,
   "id": "15d0f0b0",
   "metadata": {},
   "outputs": [
    {
     "name": "stderr",
     "output_type": "stream",
     "text": [
      "C:\\Users\\Hyunki\\anaconda3\\lib\\site-packages\\sklearn\\linear_model\\_least_angle.py:651: ConvergenceWarning: Regressors in active set degenerate. Dropping a regressor, after 299 iterations, i.e. alpha=4.840e-06, with an active set of 235 regressors, and the smallest cholesky pivot element being 2.107e-08. Reduce max_iter or increase eps parameters.\n",
      "  warnings.warn(\n",
      "C:\\Users\\Hyunki\\anaconda3\\lib\\site-packages\\sklearn\\linear_model\\_least_angle.py:651: ConvergenceWarning: Regressors in active set degenerate. Dropping a regressor, after 308 iterations, i.e. alpha=4.618e-06, with an active set of 240 regressors, and the smallest cholesky pivot element being 1.490e-08. Reduce max_iter or increase eps parameters.\n",
      "  warnings.warn(\n",
      "C:\\Users\\Hyunki\\anaconda3\\lib\\site-packages\\sklearn\\linear_model\\_least_angle.py:651: ConvergenceWarning: Regressors in active set degenerate. Dropping a regressor, after 364 iterations, i.e. alpha=3.355e-06, with an active set of 276 regressors, and the smallest cholesky pivot element being 2.107e-08. Reduce max_iter or increase eps parameters.\n",
      "  warnings.warn(\n",
      "C:\\Users\\Hyunki\\anaconda3\\lib\\site-packages\\sklearn\\linear_model\\_least_angle.py:651: ConvergenceWarning: Regressors in active set degenerate. Dropping a regressor, after 365 iterations, i.e. alpha=3.355e-06, with an active set of 277 regressors, and the smallest cholesky pivot element being 2.107e-08. Reduce max_iter or increase eps parameters.\n",
      "  warnings.warn(\n",
      "C:\\Users\\Hyunki\\anaconda3\\lib\\site-packages\\sklearn\\linear_model\\_least_angle.py:651: ConvergenceWarning: Regressors in active set degenerate. Dropping a regressor, after 365 iterations, i.e. alpha=3.355e-06, with an active set of 277 regressors, and the smallest cholesky pivot element being 2.220e-16. Reduce max_iter or increase eps parameters.\n",
      "  warnings.warn(\n",
      "C:\\Users\\Hyunki\\anaconda3\\lib\\site-packages\\sklearn\\linear_model\\_least_angle.py:651: ConvergenceWarning: Regressors in active set degenerate. Dropping a regressor, after 365 iterations, i.e. alpha=3.355e-06, with an active set of 277 regressors, and the smallest cholesky pivot element being 1.490e-08. Reduce max_iter or increase eps parameters.\n",
      "  warnings.warn(\n",
      "C:\\Users\\Hyunki\\anaconda3\\lib\\site-packages\\sklearn\\linear_model\\_least_angle.py:651: ConvergenceWarning: Regressors in active set degenerate. Dropping a regressor, after 365 iterations, i.e. alpha=3.354e-06, with an active set of 277 regressors, and the smallest cholesky pivot element being 2.220e-16. Reduce max_iter or increase eps parameters.\n",
      "  warnings.warn(\n",
      "C:\\Users\\Hyunki\\anaconda3\\lib\\site-packages\\sklearn\\linear_model\\_least_angle.py:681: ConvergenceWarning: Early stopping the lars path, as the residues are small and the current value of alpha is no longer well controlled. 384 iterations, alpha=3.143e-06, previous alpha=3.143e-06, with an active set of 295 regressors.\n",
      "  warnings.warn(\n"
     ]
    }
   ],
   "source": [
    "#----------------------------------------------\n",
    "# TODO: Complete here.\n",
    "#----------------------------------------------\n",
    "\n",
    "feats1 = SelectKBest(f_classif, k=numFeat).fit(df_feats_filtered, df_labels_filtered)\n",
    "# Construct a training dataset from Partition 1 with only the selected descriptive \n",
    "# features and the target feature\n",
    "df_selected_feats1_filtered = df_feats_filtered.loc[:, feats1.get_support()]\n",
    "df_train_set1_filtered = pd.concat([df_labels_filtered, df_selected_feats1_filtered], axis=1)\n",
    "\n",
    "df_selected_feats1_filtered = df_feats_filtered.loc[:, feats1.get_support()]\n",
    "df_train_set1_filtered = pd.concat([df_labels_filtered, df_selected_feats1_filtered], axis=1)\n",
    "df_test_selected_feats1_filtered = df_test_feats.loc[:, feats1.get_support()]\n",
    "df_test_set1_filtered = pd.concat([df_test_labels, df_test_selected_feats1_filtered], axis=1)\n",
    "\n",
    "\n",
    "# Construct a testing dataset from Partition 2 with only the selected descriptive\n",
    "# features and the target feature\n",
    "train_x, train_y = dichotomize_X_y(abt_filtered)\n",
    "selector = SelectFromModel(estimator=LassoLars(normalize=True, alpha=1e-16), max_features=numFeat).fit(train_x, train_y)\n",
    "df_selected_feats2_filtered = df_feats_filtered.loc[:, selector.get_support()]\n",
    "df_train_set2_filtered = pd.concat([df_labels_filtered, df_selected_feats2_filtered], axis=1)\n",
    "df_test_selected_feats2_filtered = df_test_feats.loc[:, selector.get_support()]\n",
    "df_test_set2_filtered = pd.concat([df_test_labels, df_test_selected_feats2_filtered], axis=1)\n",
    "\n",
    "selector = SelectFromModel(estimator=ExtraTreesClassifier(n_estimators=75), max_features=numFeat).fit(train_x, train_y)\n",
    "df_selected_feats3_filtered = df_feats_filtered.loc[:, selector.get_support()]\n",
    "df_train_set3_filtered = pd.concat([df_labels_filtered, df_selected_feats3_filtered], axis=1)\n",
    "df_test_selected_feats3_filtered = df_test_feats.loc[:, selector.get_support()]\n",
    "df_test_set3_filtered = pd.concat([df_test_labels, df_test_selected_feats3_filtered], axis=1)\n",
    "\n",
    "# if \"R_VALUE_median\" isn't seleted, add column.\n",
    "if \"R_VALUE_median\" not in df_train_set1_filtered.columns: df_train_set1_filtered[\"R_VALUE_median\"] = df_feats_filtered[\"R_VALUE_median\"]\n",
    "if \"R_VALUE_median\" not in df_train_set2_filtered.columns: df_train_set2_filtered[\"R_VALUE_median\"] = df_feats_filtered[\"R_VALUE_median\"]\n",
    "if \"R_VALUE_median\" not in df_train_set3_filtered.columns: df_train_set3_filtered[\"R_VALUE_median\"] = df_feats_filtered[\"R_VALUE_median\"]\n",
    "if \"R_VALUE_median\" not in df_test_set1_filtered.columns: df_test_set1_filtered[\"R_VALUE_median\"] = df_test_feats[\"R_VALUE_median\"]\n",
    "if \"R_VALUE_median\" not in df_test_set2_filtered.columns: df_test_set2_filtered[\"R_VALUE_median\"] = df_test_feats[\"R_VALUE_median\"]\n",
    "if \"R_VALUE_median\" not in df_test_set3_filtered.columns: df_test_set3_filtered[\"R_VALUE_median\"] = df_test_feats[\"R_VALUE_median\"]\n"
   ]
  },
  {
   "cell_type": "markdown",
   "id": "5dbd0bc8",
   "metadata": {},
   "source": [
    "---\n",
    "### Q9 (10 points)\n",
    "\n",
    "Using the training and testing datsets you constructed in the previous question after performing feature selection on the filtered partition 1 analytics base table. You now need to perform the sampling on the training data using the function you made in Q5.\n",
    "\n",
    "Then you should convert each of the new training and testing datasets to a binary classification problem datase or dichotomize the training and testing data like you did in Q3. Lucky for you, a method has already been provided to do this. All you need to do is apply it to teach of the `DataFrame`s you constructed with the feature selected training and testing data.\n",
    "\n",
    "**Note:** You might want to put the training and testing tuples you get from the call to the dichotomize method into seperate training and testing lists. Then you can loop over them later. \n"
   ]
  },
  {
   "cell_type": "code",
   "execution_count": 23,
   "id": "d32a2af6",
   "metadata": {},
   "outputs": [],
   "source": [
    "#----------------------------------------------\n",
    "# TODO: Complete here.\n",
    "#----------------------------------------------\n",
    "df_train_set1_under_sample_filtered = perform_under_sample_clust(df_train_set1_filtered)\n",
    "df_train_set2_under_sample_filtered = perform_under_sample_clust(df_train_set2_filtered)\n",
    "df_train_set3_under_sample_filtered = perform_under_sample_clust(df_train_set3_filtered)\n",
    "df_test_set1_under_sample_filtered = perform_under_sample_clust(df_test_set1_filtered)\n",
    "df_test_set2_under_sample_filtered = perform_under_sample_clust(df_test_set2_filtered)\n",
    "df_test_set3_under_sample_filtered = perform_under_sample_clust(df_test_set3_filtered)\n",
    "\n",
    "train_x1_under_sample_filtered, train_y1_under_sample_filtered = dichotomize_X_y(df_train_set1_under_sample_filtered)\n",
    "train_x2_under_sample_filtered, train_y2_under_sample_filtered = dichotomize_X_y(df_train_set2_under_sample_filtered)\n",
    "train_x3_under_sample_filtered, train_y3_under_sample_filtered = dichotomize_X_y(df_train_set3_under_sample_filtered)\n",
    "test_x1_under_sample_filtered, test_y1_under_sample_filtered = dichotomize_X_y(df_test_set1_under_sample_filtered)\n",
    "test_x2_under_sample_filtered, test_y2_under_sample_filtered = dichotomize_X_y(df_test_set2_under_sample_filtered)\n",
    "test_x3_under_sample_filtered, test_y3_under_sample_filtered = dichotomize_X_y(df_test_set3_under_sample_filtered)\n",
    "\n",
    "listUnderSampleFiltered = [train_x1_under_sample_filtered, train_x2_under_sample_filtered,  train_x3_under_sample_filtered, test_x1_under_sample_filtered, test_x2_under_sample_filtered, test_x3_under_sample_filtered]\n",
    "# if \"R_VALUE_median\" was added to cut off by threshold, we don't need this feature in real train set and test set. So I remove this feature.\n",
    "for dataset in listUnderSampleFiltered:\n",
    "    if dataset.shape[1] == 22:\n",
    "        dataset = dataset[:, :-1]"
   ]
  },
  {
   "cell_type": "markdown",
   "id": "33dab10a",
   "metadata": {},
   "source": [
    "---\n",
    "### Q10 (20 points)\n",
    "\n",
    "Like in Q6, this question will be utilizing the filtered and sampled datasets constructed in the previous question. For this question, you will again train your models on the three different feature selected data that had the instances below our thrshold filtered out and then had sampling by clustering performed on them. \n",
    "\n",
    "You will again be constructing an [SVC](https://scikit-learn.org/stable/modules/generated/sklearn.svm.SVC.html) model on each one of the different datasets. Like before, you should set the `class_weight` to `balanced` when you construct your models. You will again evaluate several different settings for the `kernel`, the regularization parameter `C`, and kernel coefficient `gamma`. **Note:** The `gamma` paramter is only utilized on the ‘rbf’, ‘poly’ and ‘sigmoid’ kernels, so there is no reason to evaluate multiple settings for the `linear` kernel. I have listed the settings of each parameter in a code block below. \n",
    "\n",
    "For each of the settings, you should train the model on your training data, then test it on the testing data with the same set of selected descriptive features. You will then calculate both the TSS and HSS scores and print them out. **Note:** The testing data has the samples in it that are below our threshold value, so you will first need to filter those out of the data you plan to pass to your model for testing. However, you still want those instances included in the calculation of the TSS and HSSS. So, your groud truth `lab` data should include all the instances in partition 2. You will need to concatenate a vector with all zeros in it to the match the labels you partitioned from the model testing data. \n",
    "\n",
    "Let's give you a representation of that:\n",
    "    \n",
    "    labels_from_data = [labels for samples > threshold] + [labels for samples <= threshold]\n",
    "    predict_labels = [labels from the model on > thrshold samples] + [0s the length of samples <= threshold]\n",
    "\n"
   ]
  },
  {
   "cell_type": "code",
   "execution_count": 24,
   "id": "6bb4c0d6",
   "metadata": {},
   "outputs": [],
   "source": [
    "thresh = 0.5\n",
    "\n",
    "kernel = ['linear', 'poly', 'rbf']\n",
    "c_vals = [ 0.5, 1.0]\n",
    "gamma_vals = [0.5, 1, 10]\n",
    "temp = [kernel, c_vals, gamma_vals]\n",
    "params = list(itertools.product(*temp))"
   ]
  },
  {
   "cell_type": "code",
   "execution_count": 25,
   "id": "22707ff9",
   "metadata": {},
   "outputs": [
    {
     "name": "stdout",
     "output_type": "stream",
     "text": [
      "TN=175\tFP=41\tFN=20\tTP=124\n",
      "TN=175\tFP=41\tFN=20\tTP=124\n",
      "TN=175\tFP=41\tFN=20\tTP=124\n"
     ]
    },
    {
     "name": "stderr",
     "output_type": "stream",
     "text": [
      "C:\\Users\\Hyunki\\anaconda3\\lib\\site-packages\\sklearn\\svm\\_base.py:284: ConvergenceWarning: Solver terminated early (max_iter=1000000).  Consider pre-processing your data with StandardScaler or MinMaxScaler.\n",
      "  warnings.warn(\n",
      "C:\\Users\\Hyunki\\anaconda3\\lib\\site-packages\\sklearn\\svm\\_base.py:284: ConvergenceWarning: Solver terminated early (max_iter=1000000).  Consider pre-processing your data with StandardScaler or MinMaxScaler.\n",
      "  warnings.warn(\n"
     ]
    },
    {
     "name": "stdout",
     "output_type": "stream",
     "text": [
      "TN=181\tFP=35\tFN=21\tTP=123\n",
      "TN=181\tFP=35\tFN=21\tTP=123\n"
     ]
    },
    {
     "name": "stderr",
     "output_type": "stream",
     "text": [
      "C:\\Users\\Hyunki\\anaconda3\\lib\\site-packages\\sklearn\\svm\\_base.py:284: ConvergenceWarning: Solver terminated early (max_iter=1000000).  Consider pre-processing your data with StandardScaler or MinMaxScaler.\n",
      "  warnings.warn(\n"
     ]
    },
    {
     "name": "stdout",
     "output_type": "stream",
     "text": [
      "TN=181\tFP=35\tFN=21\tTP=123\n"
     ]
    },
    {
     "name": "stderr",
     "output_type": "stream",
     "text": [
      "C:\\Users\\Hyunki\\anaconda3\\lib\\site-packages\\sklearn\\svm\\_base.py:284: ConvergenceWarning: Solver terminated early (max_iter=1000000).  Consider pre-processing your data with StandardScaler or MinMaxScaler.\n",
      "  warnings.warn(\n"
     ]
    },
    {
     "name": "stdout",
     "output_type": "stream",
     "text": [
      "TN=216\tFP=0\tFN=144\tTP=0\n"
     ]
    },
    {
     "name": "stderr",
     "output_type": "stream",
     "text": [
      "C:\\Users\\Hyunki\\anaconda3\\lib\\site-packages\\sklearn\\svm\\_base.py:284: ConvergenceWarning: Solver terminated early (max_iter=1000000).  Consider pre-processing your data with StandardScaler or MinMaxScaler.\n",
      "  warnings.warn(\n"
     ]
    },
    {
     "name": "stdout",
     "output_type": "stream",
     "text": [
      "TN=216\tFP=0\tFN=144\tTP=0\n"
     ]
    },
    {
     "name": "stderr",
     "output_type": "stream",
     "text": [
      "C:\\Users\\Hyunki\\anaconda3\\lib\\site-packages\\sklearn\\svm\\_base.py:284: ConvergenceWarning: Solver terminated early (max_iter=1000000).  Consider pre-processing your data with StandardScaler or MinMaxScaler.\n",
      "  warnings.warn(\n"
     ]
    },
    {
     "name": "stdout",
     "output_type": "stream",
     "text": [
      "TN=216\tFP=0\tFN=143\tTP=1\n"
     ]
    },
    {
     "name": "stderr",
     "output_type": "stream",
     "text": [
      "C:\\Users\\Hyunki\\anaconda3\\lib\\site-packages\\sklearn\\svm\\_base.py:284: ConvergenceWarning: Solver terminated early (max_iter=1000000).  Consider pre-processing your data with StandardScaler or MinMaxScaler.\n",
      "  warnings.warn(\n"
     ]
    },
    {
     "name": "stdout",
     "output_type": "stream",
     "text": [
      "TN=207\tFP=9\tFN=120\tTP=24\n"
     ]
    },
    {
     "name": "stderr",
     "output_type": "stream",
     "text": [
      "C:\\Users\\Hyunki\\anaconda3\\lib\\site-packages\\sklearn\\svm\\_base.py:284: ConvergenceWarning: Solver terminated early (max_iter=1000000).  Consider pre-processing your data with StandardScaler or MinMaxScaler.\n",
      "  warnings.warn(\n"
     ]
    },
    {
     "name": "stdout",
     "output_type": "stream",
     "text": [
      "TN=54\tFP=162\tFN=2\tTP=142\n"
     ]
    },
    {
     "name": "stderr",
     "output_type": "stream",
     "text": [
      "C:\\Users\\Hyunki\\anaconda3\\lib\\site-packages\\sklearn\\svm\\_base.py:284: ConvergenceWarning: Solver terminated early (max_iter=1000000).  Consider pre-processing your data with StandardScaler or MinMaxScaler.\n",
      "  warnings.warn(\n"
     ]
    },
    {
     "name": "stdout",
     "output_type": "stream",
     "text": [
      "TN=108\tFP=108\tFN=49\tTP=95\n",
      "TN=170\tFP=46\tFN=19\tTP=125\n",
      "TN=166\tFP=50\tFN=20\tTP=124\n",
      "TN=177\tFP=39\tFN=103\tTP=41\n",
      "TN=170\tFP=46\tFN=21\tTP=123\n",
      "TN=162\tFP=54\tFN=22\tTP=122\n",
      "TN=183\tFP=33\tFN=111\tTP=33\n",
      "TN=173\tFP=43\tFN=26\tTP=118\n"
     ]
    },
    {
     "name": "stderr",
     "output_type": "stream",
     "text": [
      "C:\\Users\\Hyunki\\anaconda3\\lib\\site-packages\\sklearn\\svm\\_base.py:284: ConvergenceWarning: Solver terminated early (max_iter=1000000).  Consider pre-processing your data with StandardScaler or MinMaxScaler.\n",
      "  warnings.warn(\n",
      "C:\\Users\\Hyunki\\anaconda3\\lib\\site-packages\\sklearn\\svm\\_base.py:284: ConvergenceWarning: Solver terminated early (max_iter=1000000).  Consider pre-processing your data with StandardScaler or MinMaxScaler.\n",
      "  warnings.warn(\n"
     ]
    },
    {
     "name": "stdout",
     "output_type": "stream",
     "text": [
      "TN=173\tFP=43\tFN=26\tTP=118\n",
      "TN=173\tFP=43\tFN=26\tTP=118\n"
     ]
    },
    {
     "name": "stderr",
     "output_type": "stream",
     "text": [
      "C:\\Users\\Hyunki\\anaconda3\\lib\\site-packages\\sklearn\\svm\\_base.py:284: ConvergenceWarning: Solver terminated early (max_iter=1000000).  Consider pre-processing your data with StandardScaler or MinMaxScaler.\n",
      "  warnings.warn(\n"
     ]
    },
    {
     "name": "stdout",
     "output_type": "stream",
     "text": [
      "TN=173\tFP=43\tFN=26\tTP=118\n",
      "TN=173\tFP=43\tFN=26\tTP=118\n",
      "TN=173\tFP=43\tFN=26\tTP=118\n"
     ]
    },
    {
     "name": "stderr",
     "output_type": "stream",
     "text": [
      "C:\\Users\\Hyunki\\anaconda3\\lib\\site-packages\\sklearn\\svm\\_base.py:284: ConvergenceWarning: Solver terminated early (max_iter=1000000).  Consider pre-processing your data with StandardScaler or MinMaxScaler.\n",
      "  warnings.warn(\n"
     ]
    },
    {
     "name": "stdout",
     "output_type": "stream",
     "text": [
      "TN=212\tFP=4\tFN=127\tTP=17\n"
     ]
    },
    {
     "name": "stderr",
     "output_type": "stream",
     "text": [
      "C:\\Users\\Hyunki\\anaconda3\\lib\\site-packages\\sklearn\\svm\\_base.py:284: ConvergenceWarning: Solver terminated early (max_iter=1000000).  Consider pre-processing your data with StandardScaler or MinMaxScaler.\n",
      "  warnings.warn(\n"
     ]
    },
    {
     "name": "stdout",
     "output_type": "stream",
     "text": [
      "TN=215\tFP=1\tFN=144\tTP=0\n"
     ]
    },
    {
     "name": "stderr",
     "output_type": "stream",
     "text": [
      "C:\\Users\\Hyunki\\anaconda3\\lib\\site-packages\\sklearn\\svm\\_base.py:284: ConvergenceWarning: Solver terminated early (max_iter=1000000).  Consider pre-processing your data with StandardScaler or MinMaxScaler.\n",
      "  warnings.warn(\n"
     ]
    },
    {
     "name": "stdout",
     "output_type": "stream",
     "text": [
      "TN=88\tFP=128\tFN=2\tTP=142\n"
     ]
    },
    {
     "name": "stderr",
     "output_type": "stream",
     "text": [
      "C:\\Users\\Hyunki\\anaconda3\\lib\\site-packages\\sklearn\\svm\\_base.py:284: ConvergenceWarning: Solver terminated early (max_iter=1000000).  Consider pre-processing your data with StandardScaler or MinMaxScaler.\n",
      "  warnings.warn(\n"
     ]
    },
    {
     "name": "stdout",
     "output_type": "stream",
     "text": [
      "TN=96\tFP=120\tFN=2\tTP=142\n"
     ]
    },
    {
     "name": "stderr",
     "output_type": "stream",
     "text": [
      "C:\\Users\\Hyunki\\anaconda3\\lib\\site-packages\\sklearn\\svm\\_base.py:284: ConvergenceWarning: Solver terminated early (max_iter=1000000).  Consider pre-processing your data with StandardScaler or MinMaxScaler.\n",
      "  warnings.warn(\n"
     ]
    },
    {
     "name": "stdout",
     "output_type": "stream",
     "text": [
      "TN=196\tFP=20\tFN=115\tTP=29\n"
     ]
    },
    {
     "name": "stderr",
     "output_type": "stream",
     "text": [
      "C:\\Users\\Hyunki\\anaconda3\\lib\\site-packages\\sklearn\\svm\\_base.py:284: ConvergenceWarning: Solver terminated early (max_iter=1000000).  Consider pre-processing your data with StandardScaler or MinMaxScaler.\n",
      "  warnings.warn(\n"
     ]
    },
    {
     "name": "stdout",
     "output_type": "stream",
     "text": [
      "TN=215\tFP=1\tFN=144\tTP=0\n",
      "TN=216\tFP=0\tFN=144\tTP=0\n",
      "TN=216\tFP=0\tFN=144\tTP=0\n",
      "TN=177\tFP=39\tFN=41\tTP=103\n",
      "TN=216\tFP=0\tFN=144\tTP=0\n",
      "TN=216\tFP=0\tFN=143\tTP=1\n",
      "TN=170\tFP=46\tFN=34\tTP=110\n",
      "TN=177\tFP=39\tFN=25\tTP=119\n",
      "TN=177\tFP=39\tFN=25\tTP=119\n",
      "TN=177\tFP=39\tFN=25\tTP=119\n"
     ]
    },
    {
     "name": "stderr",
     "output_type": "stream",
     "text": [
      "C:\\Users\\Hyunki\\anaconda3\\lib\\site-packages\\sklearn\\svm\\_base.py:284: ConvergenceWarning: Solver terminated early (max_iter=1000000).  Consider pre-processing your data with StandardScaler or MinMaxScaler.\n",
      "  warnings.warn(\n",
      "C:\\Users\\Hyunki\\anaconda3\\lib\\site-packages\\sklearn\\svm\\_base.py:284: ConvergenceWarning: Solver terminated early (max_iter=1000000).  Consider pre-processing your data with StandardScaler or MinMaxScaler.\n",
      "  warnings.warn(\n"
     ]
    },
    {
     "name": "stdout",
     "output_type": "stream",
     "text": [
      "TN=177\tFP=39\tFN=22\tTP=122\n",
      "TN=177\tFP=39\tFN=22\tTP=122\n"
     ]
    },
    {
     "name": "stderr",
     "output_type": "stream",
     "text": [
      "C:\\Users\\Hyunki\\anaconda3\\lib\\site-packages\\sklearn\\svm\\_base.py:284: ConvergenceWarning: Solver terminated early (max_iter=1000000).  Consider pre-processing your data with StandardScaler or MinMaxScaler.\n",
      "  warnings.warn(\n"
     ]
    },
    {
     "name": "stdout",
     "output_type": "stream",
     "text": [
      "TN=177\tFP=39\tFN=22\tTP=122\n"
     ]
    },
    {
     "name": "stderr",
     "output_type": "stream",
     "text": [
      "C:\\Users\\Hyunki\\anaconda3\\lib\\site-packages\\sklearn\\svm\\_base.py:284: ConvergenceWarning: Solver terminated early (max_iter=1000000).  Consider pre-processing your data with StandardScaler or MinMaxScaler.\n",
      "  warnings.warn(\n"
     ]
    },
    {
     "name": "stdout",
     "output_type": "stream",
     "text": [
      "TN=216\tFP=0\tFN=144\tTP=0\n"
     ]
    },
    {
     "name": "stderr",
     "output_type": "stream",
     "text": [
      "C:\\Users\\Hyunki\\anaconda3\\lib\\site-packages\\sklearn\\svm\\_base.py:284: ConvergenceWarning: Solver terminated early (max_iter=1000000).  Consider pre-processing your data with StandardScaler or MinMaxScaler.\n",
      "  warnings.warn(\n"
     ]
    },
    {
     "name": "stdout",
     "output_type": "stream",
     "text": [
      "TN=85\tFP=131\tFN=4\tTP=140\n"
     ]
    },
    {
     "name": "stderr",
     "output_type": "stream",
     "text": [
      "C:\\Users\\Hyunki\\anaconda3\\lib\\site-packages\\sklearn\\svm\\_base.py:284: ConvergenceWarning: Solver terminated early (max_iter=1000000).  Consider pre-processing your data with StandardScaler or MinMaxScaler.\n",
      "  warnings.warn(\n"
     ]
    },
    {
     "name": "stdout",
     "output_type": "stream",
     "text": [
      "TN=213\tFP=3\tFN=133\tTP=11\n"
     ]
    },
    {
     "name": "stderr",
     "output_type": "stream",
     "text": [
      "C:\\Users\\Hyunki\\anaconda3\\lib\\site-packages\\sklearn\\svm\\_base.py:284: ConvergenceWarning: Solver terminated early (max_iter=1000000).  Consider pre-processing your data with StandardScaler or MinMaxScaler.\n",
      "  warnings.warn(\n"
     ]
    },
    {
     "name": "stdout",
     "output_type": "stream",
     "text": [
      "TN=84\tFP=132\tFN=5\tTP=139\n"
     ]
    },
    {
     "name": "stderr",
     "output_type": "stream",
     "text": [
      "C:\\Users\\Hyunki\\anaconda3\\lib\\site-packages\\sklearn\\svm\\_base.py:284: ConvergenceWarning: Solver terminated early (max_iter=1000000).  Consider pre-processing your data with StandardScaler or MinMaxScaler.\n",
      "  warnings.warn(\n"
     ]
    },
    {
     "name": "stdout",
     "output_type": "stream",
     "text": [
      "TN=216\tFP=0\tFN=142\tTP=2\n"
     ]
    },
    {
     "name": "stderr",
     "output_type": "stream",
     "text": [
      "C:\\Users\\Hyunki\\anaconda3\\lib\\site-packages\\sklearn\\svm\\_base.py:284: ConvergenceWarning: Solver terminated early (max_iter=1000000).  Consider pre-processing your data with StandardScaler or MinMaxScaler.\n",
      "  warnings.warn(\n"
     ]
    },
    {
     "name": "stdout",
     "output_type": "stream",
     "text": [
      "TN=213\tFP=3\tFN=120\tTP=24\n",
      "TN=177\tFP=39\tFN=25\tTP=119\n",
      "TN=171\tFP=45\tFN=25\tTP=119\n",
      "TN=202\tFP=14\tFN=118\tTP=26\n",
      "TN=174\tFP=42\tFN=24\tTP=120\n",
      "TN=172\tFP=44\tFN=24\tTP=120\n",
      "TN=193\tFP=23\tFN=110\tTP=34\n"
     ]
    },
    {
     "data": {
      "text/html": [
       "<div>\n",
       "<style scoped>\n",
       "    .dataframe tbody tr th:only-of-type {\n",
       "        vertical-align: middle;\n",
       "    }\n",
       "\n",
       "    .dataframe tbody tr th {\n",
       "        vertical-align: top;\n",
       "    }\n",
       "\n",
       "    .dataframe thead th {\n",
       "        text-align: right;\n",
       "    }\n",
       "</style>\n",
       "<table border=\"1\" class=\"dataframe\">\n",
       "  <thead>\n",
       "    <tr style=\"text-align: right;\">\n",
       "      <th></th>\n",
       "      <th>selected_labels</th>\n",
       "      <th>kernel</th>\n",
       "      <th>c_vals</th>\n",
       "      <th>gamma_vals</th>\n",
       "      <th>tss</th>\n",
       "      <th>hss</th>\n",
       "    </tr>\n",
       "  </thead>\n",
       "  <tbody>\n",
       "    <tr>\n",
       "      <th>0</th>\n",
       "      <td>F-Val</td>\n",
       "      <td>linear</td>\n",
       "      <td>0.5</td>\n",
       "      <td>0.5</td>\n",
       "      <td>0.671296</td>\n",
       "      <td>0.655367</td>\n",
       "    </tr>\n",
       "    <tr>\n",
       "      <th>1</th>\n",
       "      <td>F-Val</td>\n",
       "      <td>linear</td>\n",
       "      <td>0.5</td>\n",
       "      <td>1.0</td>\n",
       "      <td>0.671296</td>\n",
       "      <td>0.655367</td>\n",
       "    </tr>\n",
       "    <tr>\n",
       "      <th>2</th>\n",
       "      <td>F-Val</td>\n",
       "      <td>linear</td>\n",
       "      <td>0.5</td>\n",
       "      <td>10.0</td>\n",
       "      <td>0.671296</td>\n",
       "      <td>0.655367</td>\n",
       "    </tr>\n",
       "    <tr>\n",
       "      <th>3</th>\n",
       "      <td>F-Val</td>\n",
       "      <td>linear</td>\n",
       "      <td>1.0</td>\n",
       "      <td>0.5</td>\n",
       "      <td>0.692130</td>\n",
       "      <td>0.681093</td>\n",
       "    </tr>\n",
       "    <tr>\n",
       "      <th>4</th>\n",
       "      <td>F-Val</td>\n",
       "      <td>linear</td>\n",
       "      <td>1.0</td>\n",
       "      <td>1.0</td>\n",
       "      <td>0.692130</td>\n",
       "      <td>0.681093</td>\n",
       "    </tr>\n",
       "    <tr>\n",
       "      <th>5</th>\n",
       "      <td>F-Val</td>\n",
       "      <td>linear</td>\n",
       "      <td>1.0</td>\n",
       "      <td>10.0</td>\n",
       "      <td>0.692130</td>\n",
       "      <td>0.681093</td>\n",
       "    </tr>\n",
       "    <tr>\n",
       "      <th>6</th>\n",
       "      <td>F-Val</td>\n",
       "      <td>poly</td>\n",
       "      <td>0.5</td>\n",
       "      <td>0.5</td>\n",
       "      <td>0.000000</td>\n",
       "      <td>0.000000</td>\n",
       "    </tr>\n",
       "    <tr>\n",
       "      <th>7</th>\n",
       "      <td>F-Val</td>\n",
       "      <td>poly</td>\n",
       "      <td>0.5</td>\n",
       "      <td>1.0</td>\n",
       "      <td>0.000000</td>\n",
       "      <td>0.000000</td>\n",
       "    </tr>\n",
       "    <tr>\n",
       "      <th>8</th>\n",
       "      <td>F-Val</td>\n",
       "      <td>poly</td>\n",
       "      <td>0.5</td>\n",
       "      <td>10.0</td>\n",
       "      <td>0.006944</td>\n",
       "      <td>0.008322</td>\n",
       "    </tr>\n",
       "    <tr>\n",
       "      <th>9</th>\n",
       "      <td>F-Val</td>\n",
       "      <td>poly</td>\n",
       "      <td>1.0</td>\n",
       "      <td>0.5</td>\n",
       "      <td>0.125000</td>\n",
       "      <td>0.143426</td>\n",
       "    </tr>\n",
       "    <tr>\n",
       "      <th>10</th>\n",
       "      <td>F-Val</td>\n",
       "      <td>poly</td>\n",
       "      <td>1.0</td>\n",
       "      <td>1.0</td>\n",
       "      <td>0.236111</td>\n",
       "      <td>0.199219</td>\n",
       "    </tr>\n",
       "    <tr>\n",
       "      <th>11</th>\n",
       "      <td>F-Val</td>\n",
       "      <td>poly</td>\n",
       "      <td>1.0</td>\n",
       "      <td>10.0</td>\n",
       "      <td>0.159722</td>\n",
       "      <td>0.149512</td>\n",
       "    </tr>\n",
       "    <tr>\n",
       "      <th>12</th>\n",
       "      <td>F-Val</td>\n",
       "      <td>rbf</td>\n",
       "      <td>0.5</td>\n",
       "      <td>0.5</td>\n",
       "      <td>0.655093</td>\n",
       "      <td>0.635241</td>\n",
       "    </tr>\n",
       "    <tr>\n",
       "      <th>13</th>\n",
       "      <td>F-Val</td>\n",
       "      <td>rbf</td>\n",
       "      <td>0.5</td>\n",
       "      <td>1.0</td>\n",
       "      <td>0.629630</td>\n",
       "      <td>0.608501</td>\n",
       "    </tr>\n",
       "    <tr>\n",
       "      <th>14</th>\n",
       "      <td>F-Val</td>\n",
       "      <td>rbf</td>\n",
       "      <td>0.5</td>\n",
       "      <td>10.0</td>\n",
       "      <td>0.104167</td>\n",
       "      <td>0.112500</td>\n",
       "    </tr>\n",
       "    <tr>\n",
       "      <th>15</th>\n",
       "      <td>F-Val</td>\n",
       "      <td>rbf</td>\n",
       "      <td>1.0</td>\n",
       "      <td>0.5</td>\n",
       "      <td>0.641204</td>\n",
       "      <td>0.623172</td>\n",
       "    </tr>\n",
       "    <tr>\n",
       "      <th>16</th>\n",
       "      <td>F-Val</td>\n",
       "      <td>rbf</td>\n",
       "      <td>1.0</td>\n",
       "      <td>1.0</td>\n",
       "      <td>0.597222</td>\n",
       "      <td>0.575893</td>\n",
       "    </tr>\n",
       "    <tr>\n",
       "      <th>17</th>\n",
       "      <td>F-Val</td>\n",
       "      <td>rbf</td>\n",
       "      <td>1.0</td>\n",
       "      <td>10.0</td>\n",
       "      <td>0.076389</td>\n",
       "      <td>0.083969</td>\n",
       "    </tr>\n",
       "    <tr>\n",
       "      <th>18</th>\n",
       "      <td>FromLasso</td>\n",
       "      <td>linear</td>\n",
       "      <td>0.5</td>\n",
       "      <td>0.5</td>\n",
       "      <td>0.620370</td>\n",
       "      <td>0.608400</td>\n",
       "    </tr>\n",
       "    <tr>\n",
       "      <th>19</th>\n",
       "      <td>FromLasso</td>\n",
       "      <td>linear</td>\n",
       "      <td>0.5</td>\n",
       "      <td>1.0</td>\n",
       "      <td>0.620370</td>\n",
       "      <td>0.608400</td>\n",
       "    </tr>\n",
       "    <tr>\n",
       "      <th>20</th>\n",
       "      <td>FromLasso</td>\n",
       "      <td>linear</td>\n",
       "      <td>0.5</td>\n",
       "      <td>10.0</td>\n",
       "      <td>0.620370</td>\n",
       "      <td>0.608400</td>\n",
       "    </tr>\n",
       "    <tr>\n",
       "      <th>21</th>\n",
       "      <td>FromLasso</td>\n",
       "      <td>linear</td>\n",
       "      <td>1.0</td>\n",
       "      <td>0.5</td>\n",
       "      <td>0.620370</td>\n",
       "      <td>0.608400</td>\n",
       "    </tr>\n",
       "    <tr>\n",
       "      <th>22</th>\n",
       "      <td>FromLasso</td>\n",
       "      <td>linear</td>\n",
       "      <td>1.0</td>\n",
       "      <td>1.0</td>\n",
       "      <td>0.620370</td>\n",
       "      <td>0.608400</td>\n",
       "    </tr>\n",
       "    <tr>\n",
       "      <th>23</th>\n",
       "      <td>FromLasso</td>\n",
       "      <td>linear</td>\n",
       "      <td>1.0</td>\n",
       "      <td>10.0</td>\n",
       "      <td>0.620370</td>\n",
       "      <td>0.608400</td>\n",
       "    </tr>\n",
       "    <tr>\n",
       "      <th>24</th>\n",
       "      <td>FromLasso</td>\n",
       "      <td>poly</td>\n",
       "      <td>0.5</td>\n",
       "      <td>0.5</td>\n",
       "      <td>0.099537</td>\n",
       "      <td>0.116059</td>\n",
       "    </tr>\n",
       "    <tr>\n",
       "      <th>25</th>\n",
       "      <td>FromLasso</td>\n",
       "      <td>poly</td>\n",
       "      <td>0.5</td>\n",
       "      <td>1.0</td>\n",
       "      <td>-0.004630</td>\n",
       "      <td>-0.005548</td>\n",
       "    </tr>\n",
       "    <tr>\n",
       "      <th>26</th>\n",
       "      <td>FromLasso</td>\n",
       "      <td>poly</td>\n",
       "      <td>0.5</td>\n",
       "      <td>10.0</td>\n",
       "      <td>0.393519</td>\n",
       "      <td>0.343434</td>\n",
       "    </tr>\n",
       "    <tr>\n",
       "      <th>27</th>\n",
       "      <td>FromLasso</td>\n",
       "      <td>poly</td>\n",
       "      <td>1.0</td>\n",
       "      <td>0.5</td>\n",
       "      <td>0.430556</td>\n",
       "      <td>0.378819</td>\n",
       "    </tr>\n",
       "    <tr>\n",
       "      <th>28</th>\n",
       "      <td>FromLasso</td>\n",
       "      <td>poly</td>\n",
       "      <td>1.0</td>\n",
       "      <td>1.0</td>\n",
       "      <td>0.108796</td>\n",
       "      <td>0.122237</td>\n",
       "    </tr>\n",
       "    <tr>\n",
       "      <th>29</th>\n",
       "      <td>FromLasso</td>\n",
       "      <td>poly</td>\n",
       "      <td>1.0</td>\n",
       "      <td>10.0</td>\n",
       "      <td>-0.004630</td>\n",
       "      <td>-0.005548</td>\n",
       "    </tr>\n",
       "    <tr>\n",
       "      <th>30</th>\n",
       "      <td>FromLasso</td>\n",
       "      <td>rbf</td>\n",
       "      <td>0.5</td>\n",
       "      <td>0.5</td>\n",
       "      <td>0.000000</td>\n",
       "      <td>0.000000</td>\n",
       "    </tr>\n",
       "    <tr>\n",
       "      <th>31</th>\n",
       "      <td>FromLasso</td>\n",
       "      <td>rbf</td>\n",
       "      <td>0.5</td>\n",
       "      <td>1.0</td>\n",
       "      <td>0.000000</td>\n",
       "      <td>0.000000</td>\n",
       "    </tr>\n",
       "    <tr>\n",
       "      <th>32</th>\n",
       "      <td>FromLasso</td>\n",
       "      <td>rbf</td>\n",
       "      <td>0.5</td>\n",
       "      <td>10.0</td>\n",
       "      <td>0.534722</td>\n",
       "      <td>0.535963</td>\n",
       "    </tr>\n",
       "    <tr>\n",
       "      <th>33</th>\n",
       "      <td>FromLasso</td>\n",
       "      <td>rbf</td>\n",
       "      <td>1.0</td>\n",
       "      <td>0.5</td>\n",
       "      <td>0.000000</td>\n",
       "      <td>0.000000</td>\n",
       "    </tr>\n",
       "    <tr>\n",
       "      <th>34</th>\n",
       "      <td>FromLasso</td>\n",
       "      <td>rbf</td>\n",
       "      <td>1.0</td>\n",
       "      <td>1.0</td>\n",
       "      <td>0.006944</td>\n",
       "      <td>0.008322</td>\n",
       "    </tr>\n",
       "    <tr>\n",
       "      <th>35</th>\n",
       "      <td>FromLasso</td>\n",
       "      <td>rbf</td>\n",
       "      <td>1.0</td>\n",
       "      <td>10.0</td>\n",
       "      <td>0.550926</td>\n",
       "      <td>0.543379</td>\n",
       "    </tr>\n",
       "    <tr>\n",
       "      <th>36</th>\n",
       "      <td>FromForest</td>\n",
       "      <td>linear</td>\n",
       "      <td>0.5</td>\n",
       "      <td>0.5</td>\n",
       "      <td>0.645833</td>\n",
       "      <td>0.635535</td>\n",
       "    </tr>\n",
       "    <tr>\n",
       "      <th>37</th>\n",
       "      <td>FromForest</td>\n",
       "      <td>linear</td>\n",
       "      <td>0.5</td>\n",
       "      <td>1.0</td>\n",
       "      <td>0.645833</td>\n",
       "      <td>0.635535</td>\n",
       "    </tr>\n",
       "    <tr>\n",
       "      <th>38</th>\n",
       "      <td>FromForest</td>\n",
       "      <td>linear</td>\n",
       "      <td>0.5</td>\n",
       "      <td>10.0</td>\n",
       "      <td>0.645833</td>\n",
       "      <td>0.635535</td>\n",
       "    </tr>\n",
       "    <tr>\n",
       "      <th>39</th>\n",
       "      <td>FromForest</td>\n",
       "      <td>linear</td>\n",
       "      <td>1.0</td>\n",
       "      <td>0.5</td>\n",
       "      <td>0.666667</td>\n",
       "      <td>0.653802</td>\n",
       "    </tr>\n",
       "    <tr>\n",
       "      <th>40</th>\n",
       "      <td>FromForest</td>\n",
       "      <td>linear</td>\n",
       "      <td>1.0</td>\n",
       "      <td>1.0</td>\n",
       "      <td>0.666667</td>\n",
       "      <td>0.653802</td>\n",
       "    </tr>\n",
       "    <tr>\n",
       "      <th>41</th>\n",
       "      <td>FromForest</td>\n",
       "      <td>linear</td>\n",
       "      <td>1.0</td>\n",
       "      <td>10.0</td>\n",
       "      <td>0.666667</td>\n",
       "      <td>0.653802</td>\n",
       "    </tr>\n",
       "    <tr>\n",
       "      <th>42</th>\n",
       "      <td>FromForest</td>\n",
       "      <td>poly</td>\n",
       "      <td>0.5</td>\n",
       "      <td>0.5</td>\n",
       "      <td>0.000000</td>\n",
       "      <td>0.000000</td>\n",
       "    </tr>\n",
       "    <tr>\n",
       "      <th>43</th>\n",
       "      <td>FromForest</td>\n",
       "      <td>poly</td>\n",
       "      <td>0.5</td>\n",
       "      <td>1.0</td>\n",
       "      <td>0.365741</td>\n",
       "      <td>0.318870</td>\n",
       "    </tr>\n",
       "    <tr>\n",
       "      <th>44</th>\n",
       "      <td>FromForest</td>\n",
       "      <td>poly</td>\n",
       "      <td>0.5</td>\n",
       "      <td>10.0</td>\n",
       "      <td>0.062500</td>\n",
       "      <td>0.073569</td>\n",
       "    </tr>\n",
       "    <tr>\n",
       "      <th>45</th>\n",
       "      <td>FromForest</td>\n",
       "      <td>poly</td>\n",
       "      <td>1.0</td>\n",
       "      <td>0.5</td>\n",
       "      <td>0.354167</td>\n",
       "      <td>0.308779</td>\n",
       "    </tr>\n",
       "    <tr>\n",
       "      <th>46</th>\n",
       "      <td>FromForest</td>\n",
       "      <td>poly</td>\n",
       "      <td>1.0</td>\n",
       "      <td>1.0</td>\n",
       "      <td>0.013889</td>\n",
       "      <td>0.016620</td>\n",
       "    </tr>\n",
       "    <tr>\n",
       "      <th>47</th>\n",
       "      <td>FromForest</td>\n",
       "      <td>poly</td>\n",
       "      <td>1.0</td>\n",
       "      <td>10.0</td>\n",
       "      <td>0.152778</td>\n",
       "      <td>0.176707</td>\n",
       "    </tr>\n",
       "    <tr>\n",
       "      <th>48</th>\n",
       "      <td>FromForest</td>\n",
       "      <td>rbf</td>\n",
       "      <td>0.5</td>\n",
       "      <td>0.5</td>\n",
       "      <td>0.645833</td>\n",
       "      <td>0.635535</td>\n",
       "    </tr>\n",
       "    <tr>\n",
       "      <th>49</th>\n",
       "      <td>FromForest</td>\n",
       "      <td>rbf</td>\n",
       "      <td>0.5</td>\n",
       "      <td>1.0</td>\n",
       "      <td>0.618056</td>\n",
       "      <td>0.604072</td>\n",
       "    </tr>\n",
       "    <tr>\n",
       "      <th>50</th>\n",
       "      <td>FromForest</td>\n",
       "      <td>rbf</td>\n",
       "      <td>0.5</td>\n",
       "      <td>10.0</td>\n",
       "      <td>0.115741</td>\n",
       "      <td>0.131579</td>\n",
       "    </tr>\n",
       "    <tr>\n",
       "      <th>51</th>\n",
       "      <td>FromForest</td>\n",
       "      <td>rbf</td>\n",
       "      <td>1.0</td>\n",
       "      <td>0.5</td>\n",
       "      <td>0.638889</td>\n",
       "      <td>0.625850</td>\n",
       "    </tr>\n",
       "    <tr>\n",
       "      <th>52</th>\n",
       "      <td>FromForest</td>\n",
       "      <td>rbf</td>\n",
       "      <td>1.0</td>\n",
       "      <td>1.0</td>\n",
       "      <td>0.629630</td>\n",
       "      <td>0.615385</td>\n",
       "    </tr>\n",
       "    <tr>\n",
       "      <th>53</th>\n",
       "      <td>FromForest</td>\n",
       "      <td>rbf</td>\n",
       "      <td>1.0</td>\n",
       "      <td>10.0</td>\n",
       "      <td>0.129630</td>\n",
       "      <td>0.144144</td>\n",
       "    </tr>\n",
       "  </tbody>\n",
       "</table>\n",
       "</div>"
      ],
      "text/plain": [
       "   selected_labels  kernel  c_vals  gamma_vals       tss       hss\n",
       "0            F-Val  linear     0.5         0.5  0.671296  0.655367\n",
       "1            F-Val  linear     0.5         1.0  0.671296  0.655367\n",
       "2            F-Val  linear     0.5        10.0  0.671296  0.655367\n",
       "3            F-Val  linear     1.0         0.5  0.692130  0.681093\n",
       "4            F-Val  linear     1.0         1.0  0.692130  0.681093\n",
       "5            F-Val  linear     1.0        10.0  0.692130  0.681093\n",
       "6            F-Val    poly     0.5         0.5  0.000000  0.000000\n",
       "7            F-Val    poly     0.5         1.0  0.000000  0.000000\n",
       "8            F-Val    poly     0.5        10.0  0.006944  0.008322\n",
       "9            F-Val    poly     1.0         0.5  0.125000  0.143426\n",
       "10           F-Val    poly     1.0         1.0  0.236111  0.199219\n",
       "11           F-Val    poly     1.0        10.0  0.159722  0.149512\n",
       "12           F-Val     rbf     0.5         0.5  0.655093  0.635241\n",
       "13           F-Val     rbf     0.5         1.0  0.629630  0.608501\n",
       "14           F-Val     rbf     0.5        10.0  0.104167  0.112500\n",
       "15           F-Val     rbf     1.0         0.5  0.641204  0.623172\n",
       "16           F-Val     rbf     1.0         1.0  0.597222  0.575893\n",
       "17           F-Val     rbf     1.0        10.0  0.076389  0.083969\n",
       "18       FromLasso  linear     0.5         0.5  0.620370  0.608400\n",
       "19       FromLasso  linear     0.5         1.0  0.620370  0.608400\n",
       "20       FromLasso  linear     0.5        10.0  0.620370  0.608400\n",
       "21       FromLasso  linear     1.0         0.5  0.620370  0.608400\n",
       "22       FromLasso  linear     1.0         1.0  0.620370  0.608400\n",
       "23       FromLasso  linear     1.0        10.0  0.620370  0.608400\n",
       "24       FromLasso    poly     0.5         0.5  0.099537  0.116059\n",
       "25       FromLasso    poly     0.5         1.0 -0.004630 -0.005548\n",
       "26       FromLasso    poly     0.5        10.0  0.393519  0.343434\n",
       "27       FromLasso    poly     1.0         0.5  0.430556  0.378819\n",
       "28       FromLasso    poly     1.0         1.0  0.108796  0.122237\n",
       "29       FromLasso    poly     1.0        10.0 -0.004630 -0.005548\n",
       "30       FromLasso     rbf     0.5         0.5  0.000000  0.000000\n",
       "31       FromLasso     rbf     0.5         1.0  0.000000  0.000000\n",
       "32       FromLasso     rbf     0.5        10.0  0.534722  0.535963\n",
       "33       FromLasso     rbf     1.0         0.5  0.000000  0.000000\n",
       "34       FromLasso     rbf     1.0         1.0  0.006944  0.008322\n",
       "35       FromLasso     rbf     1.0        10.0  0.550926  0.543379\n",
       "36      FromForest  linear     0.5         0.5  0.645833  0.635535\n",
       "37      FromForest  linear     0.5         1.0  0.645833  0.635535\n",
       "38      FromForest  linear     0.5        10.0  0.645833  0.635535\n",
       "39      FromForest  linear     1.0         0.5  0.666667  0.653802\n",
       "40      FromForest  linear     1.0         1.0  0.666667  0.653802\n",
       "41      FromForest  linear     1.0        10.0  0.666667  0.653802\n",
       "42      FromForest    poly     0.5         0.5  0.000000  0.000000\n",
       "43      FromForest    poly     0.5         1.0  0.365741  0.318870\n",
       "44      FromForest    poly     0.5        10.0  0.062500  0.073569\n",
       "45      FromForest    poly     1.0         0.5  0.354167  0.308779\n",
       "46      FromForest    poly     1.0         1.0  0.013889  0.016620\n",
       "47      FromForest    poly     1.0        10.0  0.152778  0.176707\n",
       "48      FromForest     rbf     0.5         0.5  0.645833  0.635535\n",
       "49      FromForest     rbf     0.5         1.0  0.618056  0.604072\n",
       "50      FromForest     rbf     0.5        10.0  0.115741  0.131579\n",
       "51      FromForest     rbf     1.0         0.5  0.638889  0.625850\n",
       "52      FromForest     rbf     1.0         1.0  0.629630  0.615385\n",
       "53      FromForest     rbf     1.0        10.0  0.129630  0.144144"
      ]
     },
     "execution_count": 25,
     "metadata": {},
     "output_type": "execute_result"
    }
   ],
   "source": [
    "#----------------------------------------------\n",
    "# TODO: Complete here.\n",
    "#----------------------------------------------\n",
    "listTrainSet = [(train_x1_under_sample_filtered, train_y1_under_sample_filtered), (train_x2_under_sample_filtered, train_y2_under_sample_filtered), (train_x3_under_sample_filtered, train_y3_under_sample_filtered)]\n",
    "listTestSet = [(test_x1_under_sample_filtered, test_y1_under_sample_filtered), (test_x2_under_sample_filtered, test_y2_under_sample_filtered), (test_x3_under_sample_filtered, test_y3_under_sample_filtered)]\n",
    "listTestOriginSet = [df_test_set1_under_sample_filtered, df_test_set2_under_sample_filtered, df_test_set3_under_sample_filtered]\n",
    "\n",
    "listResult = []\n",
    "for sel_label, (train_x, train_y), (test_x, test_y), test_origin in zip(selected_labels, listTrainSet, listTestSet, listTestOriginSet):\n",
    "    for kernel, c_val, gamma in params:\n",
    "        svc = SVC(class_weight=\"balanced\", kernel=kernel, C=c_val, gamma=gamma, max_iter=1000000)\n",
    "        pred = svc.fit(train_x, train_y).predict(test_x)\n",
    "        pred[test_origin.loc[:, \"R_VALUE_median\"] <= thresh] = 0\n",
    "        \n",
    "        listResult.append([sel_label, kernel, c_val, gamma, calc_tss(test_y, pred), calc_hss(test_y, pred)])\n",
    "\n",
    "dfResult = DataFrame(listResult, columns=[\"selected_labels\", \"kernel\", \"c_vals\", \"gamma_vals\", \"tss\", \"hss\"])\n",
    "dfResult\n"
   ]
  },
  {
   "cell_type": "markdown",
   "id": "6ee068b2",
   "metadata": {},
   "source": [
    "All of these results are getting unruely, we should maybe be saving them to do analysis on them too? Maybe I'll ask you to do that for the extra credit assignment."
   ]
  }
 ],
 "metadata": {
  "interpreter": {
   "hash": "1baa965d5efe3ac65b79dfc60c0d706280b1da80fedb7760faf2759126c4f253"
  },
  "kernelspec": {
   "display_name": "Python 3 (ipykernel)",
   "language": "python",
   "name": "python3"
  },
  "language_info": {
   "codemirror_mode": {
    "name": "ipython",
    "version": 3
   },
   "file_extension": ".py",
   "mimetype": "text/x-python",
   "name": "python",
   "nbconvert_exporter": "python",
   "pygments_lexer": "ipython3",
   "version": "3.8.12"
  }
 },
 "nbformat": 4,
 "nbformat_minor": 5
}
