{
 "cells": [
  {
   "cell_type": "markdown",
   "metadata": {},
   "source": [
    "# Homework Assignment 2: Data Prep\n",
    "In this homework assignment, you will continue your exploration of the [SWAN-SF Dataset](https://doi.org/10.7910/DVN/EBCFKM), described in the paper found [here](https://doi.org/10.1038/s41597-020-0548-x).\n",
    "\n",
    "\n",
    "This assignment will have you explore the cardinalities, number of missing values, detect outliers, handle missing values and outliers, and create data quality report for original and cleaned dataset. Additionally, you will be asked to provide documentation for your functions."
   ]
  },
  {
   "cell_type": "markdown",
   "metadata": {},
   "source": [
    "## Step 1: Downloading the Data\n",
    "\n",
    "This assignment will only be using [Partition 1](https://dataverse.harvard.edu/api/access/datafile/:persistentId?persistentId=doi:10.7910/DVN/EBCFKM/BMXYCB). Recall that in Homework 1 we started to construct the analytics base table for our [SWAN-SF Dataset](https://doi.org/10.7910/DVN/EBCFKM). In that assignment, we read the data from the two subdirectories, __FL__ and __NF__, of the __partition1__ direcotry. These two subdirectories represented the two classes of our target feature in the solar flare prediction problem we will be attempting to solve this semester. We then processed these samples of multivariate time series to construct descriptive features for each sample, and then placed them into our analytics base table.\n",
    "\n",
    "In this assignment, you will be utilizing a set of extracted descriptive features much like what you were asked to construct in Homework 1. However, this dataset contains many more extracted features than you were asked to compute for Homework 1 (>800), so we need to explore the data to find data quality issues and identify ways to address these issues. Below are links to the full extracted feature dataset for partition 1 and a toy dataset to use for testing you functions.\n",
    "\n",
    "__Note:__ Since the full dataset, and multiple copies of partially processed intermediary results, tend to take up a bit of space, you can use the toy dataset to implement and test your code. You may need to edit the data to fully test each of the requirements, but that is left as an exercise for the student. The full partition dataset is only included for those who wish to work with it once they have their code implemented. \n",
    "\n",
    "- [Full Partition 1 feature dataset](http://dmlab.cs.gsu.edu/solar/data/partition1ExtractedFeatures.csv)\n",
    "- [Toy Partition 1 feature dataset](http://dmlab.cs.gsu.edu/solar/data/toy_partition1ExtractedFeatures.csv)\n",
    "\n",
    "Now that you have the extracted features csv files, you will load that data into a Pandas DataFrame using the [pandas.read_csv](https://pandas.pydata.org/pandas-docs/stable/reference/api/pandas.read_csv.html) method.  \n"
   ]
  },
  {
   "cell_type": "code",
   "execution_count": 1,
   "metadata": {},
   "outputs": [],
   "source": [
    "import os\n",
    "import pandas as pd\n",
    "from pandas import DataFrame \n",
    "import numpy as np"
   ]
  },
  {
   "cell_type": "markdown",
   "metadata": {},
   "source": [
    "### Read the dataset"
   ]
  },
  {
   "cell_type": "code",
   "execution_count": 2,
   "metadata": {},
   "outputs": [],
   "source": [
    "data_dir = 'C:/Users/Hyunki/anaconda3/envs/csc4780/HW2/'\n",
    "data_file = 'toy_partition1ExtractedFeatures.csv'"
   ]
  },
  {
   "cell_type": "code",
   "execution_count": 3,
   "metadata": {},
   "outputs": [],
   "source": [
    "abt = pd.read_csv(os.path.join(data_dir, data_file), index_col=0)"
   ]
  },
  {
   "cell_type": "markdown",
   "metadata": {},
   "source": [
    "### Q1 (20 points)\n",
    "\n",
    "Write a function to extract the various pieces of a data quality report, for a specific attribute, and return a dataframe with this information.\n",
    "\n",
    " * 'Feature Name': Contains the time series statistical feature name\n",
    " \n",
    " * 'Cardinality': Contains the count of unique values for the feature\n",
    "            \n",
    " * 'Non-null Count': Contains the number of non-null entries for the feature\n",
    "            \n",
    " * 'Null Count': Contains the number of null or missing entries for the feature\n",
    "            \n",
    " * 'Min': Contains the minimum value of the feature (Without considering the null or nan value)\n",
    " \n",
    " * '25th': Contains the first quartile (25%) of the feature values (Without considering the null/nan value)\n",
    " \n",
    " * 'Mean': Contains the mean of the feature values (Without considering the null/nan value)\n",
    " \n",
    " * '50th': Contains the median of the feature values (Without considering the null/nan value)\n",
    "            \n",
    " * '75th': Contains the third quartile (75%) of the feature values (Without considering the null/nan value)\n",
    " \n",
    " * 'Max': Contains the maximum value of the feature (Without considering the null/nan value),\n",
    "            \n",
    " * 'Std. Dev': Contains the standard deviation of the feature (Without considering the null/nan value)\n",
    " \n",
    "In addition to the values above, you should identify the number of upper and lower outliers using the $val < Q1-1.5IQR$ and $val > Q3+1.5IQR$ outlier identification method. These added features should be called `Outlier Count Low` and `Outliers Count High` respectively.\n",
    "\n",
    "\n",
    " \n",
    " Some useful functions for this can be found at:\n",
    " \n",
    " * [Numpy.percentile](https://numpy.org/doc/stable/reference/generated/numpy.percentile.html)\n",
    " \n",
    " * [pandas.isna](https://pandas.pydata.org/pandas-docs/stable/reference/api/pandas.isna.html)\n",
    " \n",
    " * [Numpy.mean](https://numpy.org/doc/stable/reference/generated/numpy.mean.html)\n",
    " \n",
    " * [Numpy.std](https://numpy.org/doc/stable/reference/generated/numpy.std.html)\n",
    " "
   ]
  },
  {
   "cell_type": "code",
   "execution_count": 4,
   "metadata": {},
   "outputs": [],
   "source": [
    "def calc_summary_for(feature_name:str, data:DataFrame) -> DataFrame:\n",
    "    \"\"\"\n",
    "    DataFrame and the name of Columns from the DataFram is used to get Column Data. \n",
    "    The Function is summarize the data and return the result of summary to DataFrame.\n",
    "\n",
    "    Parameters\n",
    "    ----------\n",
    "    feature_name : str\n",
    "        The feature name that is selected from input data (DataFrame) \n",
    "        \n",
    "    data : DataFrame\n",
    "        Read SWAN-SF Dataset (csv) and make it as table (DataFrame)\n",
    "    \n",
    "    Returns\n",
    "    -------\n",
    "    DataFrame : DataFrame\n",
    "        The result of the selected thirteen features that is analyzed represnts in a row.\n",
    "        \n",
    "    See Also\n",
    "    --------\n",
    "    'Feature Name': Contains the time series statistical feature name\n",
    "    'Cardinality': Contains the count of unique values for the feature\n",
    "    'Non-null Count': Contains the number of non-null entries for the feature\n",
    "    'Null Count': Contains the number of null or missing entries for the feature\n",
    "    'Min': Contains the minimum value of the feature (Without considering the null or nan value)\n",
    "    '25th': Contains the first quartile (25%) of the feature values (Without considering the null/nan value)\n",
    "    'Mean': Contains the mean of the feature values (Without considering the null/nan value)\n",
    "    '50th': Contains the median of the feature values (Without considering the null/nan value)\n",
    "    '75th': Contains the third quartile (75%) of the feature values (Without considering the null/nan value)\n",
    "    'Max': Contains the maximum value of the feature (Without considering the null/nan value),   \n",
    "    'Std. Dev': Contains the standard deviation of the feature (Without considering the null/nan value)\n",
    "    'Outlier Count Low': val < Q1-1.5IQR (IQR = 75th - 25th)\n",
    "    'Outlier Count High': val > Q3+1.5IQR (IQR = 75th - 25th)\n",
    "    \n",
    "    Notes\n",
    "    -----\n",
    "    To calculate the Outlier Count Low and Outlier Count High, we need IQR.\n",
    "    We need Q1 and Q3 values to calculate IQR. The structure of Dictionary is used to resue Q1 and Q3 values since\n",
    "    we can access values as key in the dictionary.\n",
    "    Finally, Dictonary is returned as DataFrame format.\n",
    "\n",
    "    Examples\n",
    "    --------\n",
    "    >>> summary_TOTUSJH_min = calc_summary_for('TOTUSJH_min', abt)\n",
    "    >>> summary_TOTUSJH_min\n",
    "        Feature Name\tCardinality\tNon-null Count\tNull Count\tMin\t25th\tMean\t50th\t75th\tMax\tStd. Dev\tOutlier Count Low\tOutlier Count High\n",
    "    0\tTOTUSJH_min\t50\t50\t0\t13.292757\t188.084597\t1474.046501\t1302.193667\t2307.005998\t4807.254827\t1382.174221\t0\t0\n",
    "    \"\"\"\n",
    "\n",
    "    summary_feature_names = ['Feature Name', 'Cardinality', 'Non-null Count', 'Null Count', 'Min', '25th', 'Mean', \n",
    "                             '50th', '75th', 'Max', 'Std. Dev','Outlier Count Low', 'Outlier Count High']\n",
    "    # Your answer to Q1 goes here!\n",
    "    # Make sure to return a DataFrame with the features specified.\n",
    "    data_selected = data[feature_name]\n",
    "    dict_return = {}\n",
    "    dict_return['Feature Name'] = feature_name\n",
    "    dict_return['Cardinality'] = data_selected.nunique()\n",
    "    dict_return['Non-null Count'] = data_selected[np.invert(data_selected.isna())].count()\n",
    "    dict_return['Null Count'] = data_selected[data_selected.isna()].isna().count()\n",
    "    dict_return['Min'] = min(data_selected)\n",
    "    dict_return['25th'] = np.percentile(data_selected, 25)\n",
    "    dict_return['Mean'] = np.mean(data_selected)\n",
    "    dict_return['50th'] = np.percentile(data_selected, 50)\n",
    "    dict_return['75th'] = np.percentile(data_selected, 75)\n",
    "    dict_return['Max'] = max(data_selected)\n",
    "    dict_return['Std. Dev'] = np.std(data_selected)\n",
    "    IQR = dict_return['75th'] - dict_return['25th']\n",
    "    dict_return['Outlier Count Low'] = data_selected[data_selected < (dict_return['25th'] - 1.5 * IQR)].count()\n",
    "    dict_return['Outlier Count High'] = data_selected[data_selected > (dict_return['75th'] + 1.5 * IQR)].count()\n",
    "    return pd.DataFrame(dict_return, index=[0])"
   ]
  },
  {
   "cell_type": "code",
   "execution_count": 5,
   "metadata": {},
   "outputs": [
    {
     "data": {
      "text/html": [
       "<div>\n",
       "<style scoped>\n",
       "    .dataframe tbody tr th:only-of-type {\n",
       "        vertical-align: middle;\n",
       "    }\n",
       "\n",
       "    .dataframe tbody tr th {\n",
       "        vertical-align: top;\n",
       "    }\n",
       "\n",
       "    .dataframe thead th {\n",
       "        text-align: right;\n",
       "    }\n",
       "</style>\n",
       "<table border=\"1\" class=\"dataframe\">\n",
       "  <thead>\n",
       "    <tr style=\"text-align: right;\">\n",
       "      <th></th>\n",
       "      <th>Feature Name</th>\n",
       "      <th>Cardinality</th>\n",
       "      <th>Non-null Count</th>\n",
       "      <th>Null Count</th>\n",
       "      <th>Min</th>\n",
       "      <th>25th</th>\n",
       "      <th>Mean</th>\n",
       "      <th>50th</th>\n",
       "      <th>75th</th>\n",
       "      <th>Max</th>\n",
       "      <th>Std. Dev</th>\n",
       "      <th>Outlier Count Low</th>\n",
       "      <th>Outlier Count High</th>\n",
       "    </tr>\n",
       "  </thead>\n",
       "  <tbody>\n",
       "    <tr>\n",
       "      <th>0</th>\n",
       "      <td>TOTUSJH_min</td>\n",
       "      <td>50</td>\n",
       "      <td>50</td>\n",
       "      <td>0</td>\n",
       "      <td>13.292757</td>\n",
       "      <td>188.084597</td>\n",
       "      <td>1474.046501</td>\n",
       "      <td>1302.193667</td>\n",
       "      <td>2307.005998</td>\n",
       "      <td>4807.254827</td>\n",
       "      <td>1382.174221</td>\n",
       "      <td>0</td>\n",
       "      <td>0</td>\n",
       "    </tr>\n",
       "  </tbody>\n",
       "</table>\n",
       "</div>"
      ],
      "text/plain": [
       "  Feature Name  Cardinality  Non-null Count  Null Count        Min  \\\n",
       "0  TOTUSJH_min           50              50           0  13.292757   \n",
       "\n",
       "         25th         Mean         50th         75th          Max  \\\n",
       "0  188.084597  1474.046501  1302.193667  2307.005998  4807.254827   \n",
       "\n",
       "      Std. Dev  Outlier Count Low  Outlier Count High  \n",
       "0  1382.174221                  0                   0  "
      ]
     },
     "execution_count": 5,
     "metadata": {},
     "output_type": "execute_result"
    }
   ],
   "source": [
    "summary_TOTUSJH_min = calc_summary_for('TOTUSJH_min', abt)\n",
    "summary_TOTUSJH_min"
   ]
  },
  {
   "cell_type": "markdown",
   "metadata": {},
   "source": [
    "### Q2 (20 points)\n",
    "Using what you produced to answere Q1, you should now write a function to construct the data quality report for all of the numerical features of our dataset.  You should loop over all of the features in the analytics base table represented by the input feature dataset files from partition 1, with the exception of the first column (this is the index column if you read the file correctly), and the `id`, `lab`, `st`, and `et` columns.  \n",
    "\n",
    "Your output from this function will be a DataFrame that has 1 row for each feature. "
   ]
  },
  {
   "cell_type": "code",
   "execution_count": 6,
   "metadata": {},
   "outputs": [],
   "source": [
    "def construct_quality_report(data:DataFrame) -> DataFrame:\n",
    "    \"\"\"\n",
    "    This fucntion is to receive Dataframe, and we need to summarize columns that have numerical data.\n",
    "    Parameters\n",
    "    ----------\n",
    "    data : DataFrame\n",
    "        DataFrame that reads SWAN-SF Dataset and make table format.\n",
    "    \n",
    "    Returns\n",
    "    -------\n",
    "    DataFrame : DataFrame\n",
    "        The result of the selected thirteen features that is analyzed represnts in a row.\n",
    "\n",
    "    See Also\n",
    "    --------\n",
    "    Using 'calc_summary_for' function to calculate values from columns\n",
    "    \n",
    "    Notes\n",
    "    -----\n",
    "    When we read SWAN-SF Dataset (csv file) as text, the most front column is index cloumn.\n",
    "    However, we read it as read_csv method from pandas package. In this case, the most front index column will be automatically\n",
    "    index of the DataFrame. Thus, we exclude the four columns and use 'for' loop with calc_summary_for to calculate remained colums.\n",
    "    Examples\n",
    "    --------\n",
    "    >>> summary_table = construct_quality_report(abt)\n",
    "    >>> summary_table\n",
    "            Feature Name\tCardinality\tNon-null Count\tNull Count\tMin\t25th\tMean\t50th\t75th\tMax\tStd. Dev\tOutlier Count Low\tOutlier Count High\n",
    "        0\tTOTUSJH_min\t30165\t73492\t0\t0.000000\t29.756125\t396.697968\t110.011893\t418.614528\t5680.232811\t694.293786\t0\t9014\n",
    "        1\tTOTUSJH_max\t24142\t73492\t0\t0.783099\t53.117112\t492.649021\t162.797367\t541.875882\t6078.237599\t801.078303\t0\t8540\n",
    "        2\tTOTUSJH_median\t62001\t73492\t0\t0.000000\t40.726671\t439.417610\t133.981693\t472.710291\t5895.663839\t741.152887\t0\t8799\n",
    "        ...\n",
    "    \"\"\"\n",
    "    \n",
    "    excluded_columns = ['id', 'lab', 'st', 'et']\n",
    "    \n",
    "    summary_feature_names = ['Feature Name', 'Cardinality', 'Non-null Count', 'Null Count', 'Min', '25th', 'Mean', \n",
    "                             '50th', '75th', 'Max', 'Std. Dev','Outlier Count Low', 'Outlier Count High']\n",
    "\n",
    "    # Your answer to Q2 goes here!\n",
    "    # Make sure to return a DataFrame with the features specified.\n",
    "    \n",
    "    df_return = pd.DataFrame()\n",
    "    for column_name in data:\n",
    "        if not column_name in excluded_columns:\n",
    "            df_return = pd.concat([df_return, calc_summary_for(column_name, data)], ignore_index=True)\n",
    "\n",
    "    return df_return"
   ]
  },
  {
   "cell_type": "code",
   "execution_count": 7,
   "metadata": {},
   "outputs": [
    {
     "name": "stdout",
     "output_type": "stream",
     "text": [
      "(816, 13)\n"
     ]
    }
   ],
   "source": [
    "summary_table = construct_quality_report(abt)\n",
    "print(summary_table.shape)  # checking the dimensionality is often a useful test."
   ]
  },
  {
   "cell_type": "markdown",
   "metadata": {},
   "source": [
    "### Q3 (20 points)\n",
    "#### Drop features with improper cardinality:\n",
    "Using the quality report summary table that is returned from the function you wrote for Q2, we are now going to investigate our data. For this, you should use the table returned for the [Full Partition 1 feature dataset](http://dmlab.cs.gsu.edu/solar/data/partition1ExtractedFeatures.csv) and not the toy dataset I provided for testing.\n",
    "\n",
    "Since we are using real valued features, a majority of them shall have a cardinality close to the sample count. So, for this question, you are to write a function that takes in the summary table and the input dataset DataFrame, and drops the feature that have a cardinality less than 10. This feature should be dropped from both the data quality report summary table and from the actual input dataset DataFrame.\n",
    "\n",
    "A useful method for this operation is:\n",
    "\n",
    "* [pandas.DataFrame.drop](https://pandas.pydata.org/pandas-docs/stable/reference/api/pandas.DataFrame.drop.html) (Make sure to use the inplace option otherwise it returns a copy)"
   ]
  },
  {
   "cell_type": "code",
   "execution_count": 8,
   "metadata": {},
   "outputs": [],
   "source": [
    "def drop_low_card_data(summary_table:DataFrame, data:DataFrame) -> None:\n",
    "    \"\"\"\n",
    "    This fuction receives summary table and raw data and drop some features that have cardianlity under 10. \n",
    "    \n",
    "    Parameters\n",
    "    ----------\n",
    "    summray_table: DataFrame\n",
    "        The table contains information that is summarized by construct_quality_report function.\n",
    "        \n",
    "    data : DataFrame\n",
    "        DataFrame that reads SWAN-SF Dataset(csv) to make table.\n",
    "        \n",
    "    Returns\n",
    "    -------\n",
    "    None\n",
    "    \n",
    "    Notes\n",
    "    -----   \n",
    "    In the function, we drop columns in DataFrame and inplace to change column itself.\n",
    "    This function does not return anything. DataFrame is mutable object, thus it works like\n",
    "    call by reference. Even though it is dropped, we can access from outside of function.\n",
    "\n",
    "    Examples\n",
    "    --------\n",
    "    >>> drop_low_card_data(summary_table, abt)\n",
    "    >>> summary_table\n",
    "            Feature Name\tCardinality\tNon-null Count\tNull Count\tMin\t25th\tMean\t50th\t75th\tMax\tStd. Dev\tOutlier Count Low\tOutlier Count High\n",
    "        0\tTOTUSJH_min\t30165\t73492\t0\t0.000000\t29.756125\t396.697968\t110.011893\t418.614528\t5680.232811\t694.293786\t0\t9014\n",
    "        1\tTOTUSJH_max\t24142\t73492\t0\t0.783099\t53.117112\t492.649021\t162.797367\t541.875882\t6078.237599\t801.078303\t0\t8540\n",
    "        2\tTOTUSJH_median\t62001\t73492\t0\t0.000000\t40.726671\t439.417610\t133.981693\t472.710291\t5895.663839\t741.152887\t0\t8799\n",
    "        ...\n",
    "    >>> abt\n",
    "            id\tlab\tst\tet\tTOTUSJH_min\tTOTUSJH_max\tTOTUSJH_median\tTOTUSJH_mean\t...\n",
    "        0\t514\tC\t2011-04-28T23:12:00\t2011-04-29T11:00:00\t1654.553362\t1815.727348\t1725.894296\t1732.208184\t...\n",
    "        1\t107\tNF\t2010-08-04T06:36:00\t2010-08-04T18:24:00\t38.257743\t104.732191\t48.946497\t54.105280 ...\n",
    "        ...\n",
    "    \"\"\"\n",
    "    # Your answer to Q3 goes here!\n",
    "    \n",
    "    for column_name in data.columns:\n",
    "        if column_name in summary_table[\"Feature Name\"].tolist():\n",
    "            if summary_table.loc[summary_table[\"Feature Name\"] == column_name, \"Cardinality\"].values < 10:\n",
    "                summary_table.drop(index = summary_table.index[summary_table[\"Feature Name\"] == column_name], inplace=True)\n",
    "                data.drop(columns = [column_name], inplace=True)"
   ]
  },
  {
   "cell_type": "code",
   "execution_count": 9,
   "metadata": {},
   "outputs": [
    {
     "name": "stdout",
     "output_type": "stream",
     "text": [
      "(801, 13)\n"
     ]
    }
   ],
   "source": [
    "data_dir = 'C:/Users/Hyunki/anaconda3/envs/csc4780/HW2/'\n",
    "data_file = 'partition1ExtractedFeatures.csv'\n",
    "abt = pd.read_csv(os.path.join(data_dir, data_file), index_col=0)\n",
    "summary_table = construct_quality_report(abt)\n",
    "drop_low_card_data(summary_table, abt)\n",
    "print(summary_table.shape)"
   ]
  },
  {
   "cell_type": "code",
   "execution_count": null,
   "metadata": {},
   "outputs": [],
   "source": [
    "#This is a toy csv file to test the function.\n",
    "data_dir = 'C:/Users/Hyunki/anaconda3/envs/csc4780/HW2/'\n",
    "data_file = 'toy_partition1ExtractedFeatures.csv'\n",
    "abt = pd.read_csv(os.path.join(data_dir, data_file), index_col=0)\n",
    "summary_table = construct_quality_report(abt)\n",
    "drop_low_card_data(summary_table, abt)\n",
    "print(summary_table.shape)"
   ]
  },
  {
   "cell_type": "code",
   "execution_count": null,
   "metadata": {},
   "outputs": [],
   "source": [
    "drop_low_card_data(summary_table, abt)\n",
    "print(summary_table.shape)"
   ]
  },
  {
   "cell_type": "markdown",
   "metadata": {},
   "source": [
    "### Q4 (20 points)\n",
    "#### Drop features with excessive NaN\n",
    "\n",
    "Again, using the quality report summary table that is returned from the function you wrote for Q2, we are going to continue investigating our data. For this, you should still be using the table returned for the [Full Partition 1 feature dataset](http://dmlab.cs.gsu.edu/solar/data/partition1ExtractedFeatures.csv) and not the toy dataset I provided for testing.\n",
    "\n",
    "Like the features that were dropped for Q3, some of the extracted features don't work on all of the variates of the input multi-variate time series samples very well.  So, some of these features return an excessive number of `NaN` values.  These are not verry useful features, so we want to get rid of them before we continue. To do this, you are to write a function that takes in the summary table and the input dataset DataFrame, and drops the features that have **more than 1%** of the entries as null/nan values. Again, these features should be dropped from both the data quality report summary table and from the actual input dataset DataFrame.\n",
    "\n",
    "As in Q3, a useful method for this operation is:\n",
    "\n",
    "* [pandas.DataFrame.drop](https://pandas.pydata.org/pandas-docs/stable/reference/api/pandas.DataFrame.drop.html) (Make sure to use the inplace option otherwise it returns a copy)"
   ]
  },
  {
   "cell_type": "code",
   "execution_count": 10,
   "metadata": {},
   "outputs": [],
   "source": [
    "def drop_excessive_nan_data(summary_table:DataFrame, data:DataFrame) -> None:\n",
    "    \"\"\"\n",
    "    This function receives summary table and raw data and drop some features that have more than 1% nan value.\n",
    "    \n",
    "    Parameters\n",
    "    ----------\n",
    "    summray_table: DataFrame\n",
    "        Table contains summarized information that is from construct_quality_report function\n",
    "        \n",
    "    data : DataFrame\n",
    "        DataFrame that reads SWAN-SF Dataset(csv) to make table.\n",
    "    \n",
    "    Returns\n",
    "    -------\n",
    "    None\n",
    "    \n",
    "    Notes\n",
    "    -----\n",
    "    In the function, we drop columns in DataFrame and inplace to change column itself.\n",
    "    This function does not return anything. DataFrame is mutable object, thus it works like\n",
    "    call by reference. Even though it is dropped, we can access from outside of function.\n",
    "\n",
    "    Examples\n",
    "    --------\n",
    "    >>> drop_excessive_nan_data(summary_table, abt)\n",
    "    >>> summary_table\n",
    "            Feature Name\tCardinality\tNon-null Count\tNull Count\tMin\t25th\tMean\t50th\t75th\tMax\tStd. Dev\tOutlier Count Low\tOutlier Count High\n",
    "        0\tTOTUSJH_min\t30165\t73492\t0\t0.000000\t29.756125\t396.697968\t110.011893\t418.614528\t5680.232811\t694.293786\t0\t9014\n",
    "        1\tTOTUSJH_max\t24142\t73492\t0\t0.783099\t53.117112\t492.649021\t162.797367\t541.875882\t6078.237599\t801.078303\t0\t8540\n",
    "        2\tTOTUSJH_median\t62001\t73492\t0\t0.000000\t40.726671\t439.417610\t133.981693\t472.710291\t5895.663839\t741.152887\t0\t8799\n",
    "        ...\n",
    "    >>> abt\n",
    "            id\tlab\tst\tet\tTOTUSJH_min\tTOTUSJH_max\tTOTUSJH_median\tTOTUSJH_mean\t...\n",
    "        0\t514\tC\t2011-04-28T23:12:00\t2011-04-29T11:00:00\t1654.553362\t1815.727348\t1725.894296\t1732.208184\t...\n",
    "        1\t107\tNF\t2010-08-04T06:36:00\t2010-08-04T18:24:00\t38.257743\t104.732191\t48.946497\t54.105280 ...\n",
    "        ...\n",
    "    \"\"\"\n",
    "    # Your answer to Q4 goes here!\n",
    "    \n",
    "    for column_name in data.columns:\n",
    "        if column_name in summary_table[\"Feature Name\"].tolist():\n",
    "            null_count = summary_table.loc[summary_table[\"Feature Name\"] == column_name, \"Null Count\"].values\n",
    "            total_count = summary_table.loc[summary_table[\"Feature Name\"] == column_name, \"Non-null Count\"].values + null_count\n",
    "            if null_count/total_count > 0.01:\n",
    "                summary_table.drop(index = summary_table.index[summary_table[\"Feature Name\"] == column_name], inplace=True)\n",
    "                data.drop(columns = [column_name], inplace=True)"
   ]
  },
  {
   "cell_type": "code",
   "execution_count": 11,
   "metadata": {},
   "outputs": [
    {
     "name": "stdout",
     "output_type": "stream",
     "text": [
      "(799, 13)\n"
     ]
    }
   ],
   "source": [
    "drop_excessive_nan_data(summary_table, abt)\n",
    "print(summary_table.shape)"
   ]
  },
  {
   "cell_type": "markdown",
   "metadata": {},
   "source": [
    "Now that you have the data cleaned up a little, save the results of both your summary table and your analytics base table using the [pandas.to_csv](https://pandas.pydata.org/pandas-docs/stable/reference/api/pandas.DataFrame.to_csv.html) method. We will want to use these results for the next homework assignment."
   ]
  },
  {
   "cell_type": "code",
   "execution_count": 12,
   "metadata": {},
   "outputs": [],
   "source": [
    "out_dir = 'C:/Users/Hyunki/anaconda3/envs/csc4780/HW2/'\n",
    "out_summary_table_name = 'data_quality_table.csv'\n",
    "out_abt_name = 'cleaned_partition1ExtractedFeatures.csv'"
   ]
  },
  {
   "cell_type": "code",
   "execution_count": 13,
   "metadata": {},
   "outputs": [],
   "source": [
    "# Save here!\n",
    "summary_table.to_csv(os.path.join(out_dir, out_summary_table_name))\n",
    "abt.to_csv(os.path.join(out_dir, out_abt_name))"
   ]
  },
  {
   "cell_type": "markdown",
   "metadata": {},
   "source": [
    "### Q5 (20 points)\n",
    "#### Add docstring to your functions\n",
    "\n",
    "Let's revisit our programming skill while learning Fundamentals of Data Science. \n",
    "\n",
    "Your code is only as valuable as its reusability. Without understandable and legible documentation (which makes maintainability and reusability possible) nobody would like to use your code, let alone to pay for it. ;)\n",
    "\n",
    "If you want to know more about the value of documentation, read [this article](https://www.freecodecamp.org/news/why-documentation-matters-and-why-you-should-include-it-in-your-code-41ef62dd5c2f/). There are even conferences on this topic; see [this website](https://www.writethedocs.org/guide/writing/beginners-guide-to-docs/).\n",
    "\n",
    "In Python, the documentation that is embedded in the code is called **docstring**. In the example below, the \"string\" wrapped in triple quotes is there to tell us all about this function."
   ]
  },
  {
   "cell_type": "code",
   "execution_count": 14,
   "metadata": {},
   "outputs": [],
   "source": [
    "def nanmean(a, axis=None):\n",
    "    \"\"\"\n",
    "    I added docstring in each question.\n",
    "    \"\"\"\n",
    "    # some magic happens here that we don't care about.\n",
    "    pass"
   ]
  },
  {
   "cell_type": "markdown",
   "metadata": {},
   "source": [
    "Note that this is not just a *comment*. If you execute `nanmean` and then call it (as if you want to use it), you can hit `shift+Tab` while your cursor is on the function name, and see how the docstring gets compiled and then pops up. This allows other users to see our description even when they don't have access to our source code. Try it! You can do this with other NumPy and Pandas functions/methods that you've been using.\n",
    "\n",
    "The above example is a simplified version of the method `nanmean` copied from the NumPy library ([here](https://github.com/numpy/numpy/blob/v1.21.0/numpy/lib/nanfunctions.py#L862-L957)). Feel free to check out their complete docstrings.\n",
    "\n",
    "\n",
    "Your last task is to provide docstrings for the 4 methods you've implemented. Simply go back to those cells and modify your functions. Feel free to use the text provided to you (in the assignment descriptions) to enrich your docstrings. Keep in mind that your docstring needs (1) a general description, (2) a short description for each input, and (3) a short description for the output.\n",
    "\n",
    "How to check your docstring? Hit `shift+Tab` and see if the pop-up message is correctly compiled, and make sure your description answers all the questions about your functions."
   ]
  }
 ],
 "metadata": {
  "kernelspec": {
   "display_name": "Python 3",
   "language": "python",
   "name": "python3"
  },
  "language_info": {
   "codemirror_mode": {
    "name": "ipython",
    "version": 3
   },
   "file_extension": ".py",
   "mimetype": "text/x-python",
   "name": "python",
   "nbconvert_exporter": "python",
   "pygments_lexer": "ipython3",
   "version": "3.8.8"
  }
 },
 "nbformat": 4,
 "nbformat_minor": 2
}
